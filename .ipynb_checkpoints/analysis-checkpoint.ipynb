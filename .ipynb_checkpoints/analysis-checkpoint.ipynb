{
 "cells": [
  {
   "cell_type": "code",
   "execution_count": 9,
   "id": "0c48231c",
   "metadata": {},
   "outputs": [],
   "source": [
    "from glob import glob\n",
    "import pandas as pd\n",
    "import re"
   ]
  },
  {
   "cell_type": "code",
   "execution_count": 13,
   "id": "cc5f0e22",
   "metadata": {},
   "outputs": [],
   "source": [
    "check_dict = {\n",
    "    2008: [0],\n",
    "    2009: [0],\n",
    "    2010: [0],\n",
    "    2011: [0],\n",
    "    2012: [0],\n",
    "    2013: [0],\n",
    "    2014: [300000],\n",
    "    2015: [600000],\n",
    "    2016: [800000],\n",
    "    2017: [800000],\n",
    "    2018: [900000],\n",
    "    2019: [1000000]\n",
    "}"
   ]
  },
  {
   "cell_type": "code",
   "execution_count": 14,
   "id": "28e121bb",
   "metadata": {},
   "outputs": [
    {
     "name": "stderr",
     "output_type": "stream",
     "text": [
      "C:\\Users\\lorga\\AppData\\Local\\Temp\\ipykernel_10220\\2621844601.py:8: DtypeWarning: Columns (17,20) have mixed types. Specify dtype option on import or set low_memory=False.\n",
      "  df = pd.read_csv(file, sep = \";\", encoding = target_encoding)\n",
      "C:\\Users\\lorga\\AppData\\Local\\Temp\\ipykernel_10220\\2621844601.py:8: DtypeWarning: Columns (6,20) have mixed types. Specify dtype option on import or set low_memory=False.\n",
      "  df = pd.read_csv(file, sep = \";\", encoding = target_encoding)\n",
      "C:\\Users\\lorga\\AppData\\Local\\Temp\\ipykernel_10220\\2621844601.py:8: DtypeWarning: Columns (6,20) have mixed types. Specify dtype option on import or set low_memory=False.\n",
      "  df = pd.read_csv(file, sep = \";\", encoding = target_encoding)\n",
      "C:\\Users\\lorga\\AppData\\Local\\Temp\\ipykernel_10220\\2621844601.py:8: DtypeWarning: Columns (8,30,31) have mixed types. Specify dtype option on import or set low_memory=False.\n",
      "  df = pd.read_csv(file, sep = \";\", encoding = target_encoding)\n",
      "C:\\Users\\lorga\\AppData\\Local\\Temp\\ipykernel_10220\\2621844601.py:8: DtypeWarning: Columns (7) have mixed types. Specify dtype option on import or set low_memory=False.\n",
      "  df = pd.read_csv(file, sep = \";\", encoding = target_encoding)\n",
      "C:\\Users\\lorga\\AppData\\Local\\Temp\\ipykernel_10220\\2621844601.py:8: DtypeWarning: Columns (13) have mixed types. Specify dtype option on import or set low_memory=False.\n",
      "  df = pd.read_csv(file, sep = \";\", encoding = target_encoding)\n",
      "C:\\Users\\lorga\\AppData\\Local\\Temp\\ipykernel_10220\\2621844601.py:8: DtypeWarning: Columns (14) have mixed types. Specify dtype option on import or set low_memory=False.\n",
      "  df = pd.read_csv(file, sep = \";\", encoding = target_encoding)\n"
     ]
    }
   ],
   "source": [
    "data_results = glob(\"data/*\")\n",
    "for file in data_results:\n",
    "    year = int(file.split(\"\\\\\")[1].split(\".\")[0])\n",
    "    if year != 2012:\n",
    "        target_encoding = \"utf-8\"\n",
    "    else:\n",
    "        target_encoding = \"latin-1\"\n",
    "    df = pd.read_csv(file, sep = \";\", encoding = target_encoding)\n",
    "    count = len(df.index)\n",
    "    check_dict[year].append(count)"
   ]
  },
  {
   "cell_type": "code",
   "execution_count": 15,
   "id": "011a9184",
   "metadata": {},
   "outputs": [
    {
     "name": "stderr",
     "output_type": "stream",
     "text": [
      "C:\\Users\\lorga\\AppData\\Local\\Temp\\ipykernel_10220\\3648737788.py:8: DtypeWarning: Columns (12,13,14,15,20,21) have mixed types. Specify dtype option on import or set low_memory=False.\n",
      "  df = pd.read_csv(file, sep = \";\", encoding = target_encoding)\n",
      "C:\\Users\\lorga\\AppData\\Local\\Temp\\ipykernel_10220\\3648737788.py:8: DtypeWarning: Columns (7,12,13,14,15,20,21) have mixed types. Specify dtype option on import or set low_memory=False.\n",
      "  df = pd.read_csv(file, sep = \";\", encoding = target_encoding)\n",
      "C:\\Users\\lorga\\AppData\\Local\\Temp\\ipykernel_10220\\3648737788.py:8: DtypeWarning: Columns (7,12,13,14,15,20,21) have mixed types. Specify dtype option on import or set low_memory=False.\n",
      "  df = pd.read_csv(file, sep = \";\", encoding = target_encoding)\n",
      "C:\\Users\\lorga\\AppData\\Local\\Temp\\ipykernel_10220\\3648737788.py:8: DtypeWarning: Columns (7,12,13,14,15,20,21) have mixed types. Specify dtype option on import or set low_memory=False.\n",
      "  df = pd.read_csv(file, sep = \";\", encoding = target_encoding)\n",
      "C:\\Users\\lorga\\AppData\\Local\\Temp\\ipykernel_10220\\3648737788.py:8: DtypeWarning: Columns (9,31,32) have mixed types. Specify dtype option on import or set low_memory=False.\n",
      "  df = pd.read_csv(file, sep = \";\", encoding = target_encoding)\n",
      "C:\\Users\\lorga\\AppData\\Local\\Temp\\ipykernel_10220\\3648737788.py:8: DtypeWarning: Columns (14) have mixed types. Specify dtype option on import or set low_memory=False.\n",
      "  df = pd.read_csv(file, sep = \";\", encoding = target_encoding)\n",
      "C:\\Users\\lorga\\AppData\\Local\\Temp\\ipykernel_10220\\3648737788.py:8: DtypeWarning: Columns (15) have mixed types. Specify dtype option on import or set low_memory=False.\n",
      "  df = pd.read_csv(file, sep = \";\", encoding = target_encoding)\n"
     ]
    }
   ],
   "source": [
    "notna_results = glob(\"data_notna/*\")\n",
    "for file in notna_results:\n",
    "    year = int(file.split(\"\\\\\")[1].split(\".\")[0])\n",
    "    if year != 2012:\n",
    "        target_encoding = \"utf-8\"\n",
    "    else:\n",
    "        target_encoding = \"latin-1\"\n",
    "    df = pd.read_csv(file, sep = \";\", encoding = target_encoding)\n",
    "    count = len(df.index)\n",
    "    if year in check_dict.keys():\n",
    "        check_dict[year].append(count)"
   ]
  },
  {
   "cell_type": "code",
   "execution_count": 16,
   "id": "b7e6dcf9",
   "metadata": {},
   "outputs": [],
   "source": [
    "edge_results = glob(\"edges/*\")\n",
    "for file in edge_results:\n",
    "    year = file.split(\"\\\\\")[1].split(\".\")[0]\n",
    "    if len(year) == 4:\n",
    "        year = int(year)\n",
    "        df = pd.read_csv(file, sep = \";\", encoding = \"utf-8\")\n",
    "        count = df[\"count\"].sum()\n",
    "        if year in check_dict.keys():\n",
    "            check_dict[year].append(count)"
   ]
  },
  {
   "cell_type": "code",
   "execution_count": 17,
   "id": "fa1d7bd9",
   "metadata": {},
   "outputs": [
    {
     "data": {
      "text/html": [
       "<div>\n",
       "<style scoped>\n",
       "    .dataframe tbody tr th:only-of-type {\n",
       "        vertical-align: middle;\n",
       "    }\n",
       "\n",
       "    .dataframe tbody tr th {\n",
       "        vertical-align: top;\n",
       "    }\n",
       "\n",
       "    .dataframe thead th {\n",
       "        text-align: right;\n",
       "    }\n",
       "</style>\n",
       "<table border=\"1\" class=\"dataframe\">\n",
       "  <thead>\n",
       "    <tr style=\"text-align: right;\">\n",
       "      <th></th>\n",
       "      <th>stats</th>\n",
       "      <th>data</th>\n",
       "      <th>notna</th>\n",
       "      <th>edges</th>\n",
       "      <th>notna_ratio</th>\n",
       "      <th>edges_ratio</th>\n",
       "      <th>overall_ratio</th>\n",
       "    </tr>\n",
       "  </thead>\n",
       "  <tbody>\n",
       "    <tr>\n",
       "      <th>2008</th>\n",
       "      <td>0</td>\n",
       "      <td>198523</td>\n",
       "      <td>168193</td>\n",
       "      <td>122170</td>\n",
       "      <td>0.847222</td>\n",
       "      <td>0.726368</td>\n",
       "      <td>inf</td>\n",
       "    </tr>\n",
       "    <tr>\n",
       "      <th>2009</th>\n",
       "      <td>0</td>\n",
       "      <td>213266</td>\n",
       "      <td>177705</td>\n",
       "      <td>130923</td>\n",
       "      <td>0.833255</td>\n",
       "      <td>0.736743</td>\n",
       "      <td>inf</td>\n",
       "    </tr>\n",
       "    <tr>\n",
       "      <th>2010</th>\n",
       "      <td>0</td>\n",
       "      <td>231408</td>\n",
       "      <td>190499</td>\n",
       "      <td>139350</td>\n",
       "      <td>0.823217</td>\n",
       "      <td>0.731500</td>\n",
       "      <td>inf</td>\n",
       "    </tr>\n",
       "    <tr>\n",
       "      <th>2011</th>\n",
       "      <td>0</td>\n",
       "      <td>252827</td>\n",
       "      <td>204756</td>\n",
       "      <td>148583</td>\n",
       "      <td>0.809866</td>\n",
       "      <td>0.725659</td>\n",
       "      <td>inf</td>\n",
       "    </tr>\n",
       "    <tr>\n",
       "      <th>2012</th>\n",
       "      <td>0</td>\n",
       "      <td>267547</td>\n",
       "      <td>267547</td>\n",
       "      <td>153827</td>\n",
       "      <td>1.000000</td>\n",
       "      <td>0.574953</td>\n",
       "      <td>inf</td>\n",
       "    </tr>\n",
       "    <tr>\n",
       "      <th>2013</th>\n",
       "      <td>0</td>\n",
       "      <td>272791</td>\n",
       "      <td>218225</td>\n",
       "      <td>158883</td>\n",
       "      <td>0.799971</td>\n",
       "      <td>0.728070</td>\n",
       "      <td>inf</td>\n",
       "    </tr>\n",
       "    <tr>\n",
       "      <th>2014</th>\n",
       "      <td>300000</td>\n",
       "      <td>234772</td>\n",
       "      <td>234771</td>\n",
       "      <td>170204</td>\n",
       "      <td>0.999996</td>\n",
       "      <td>0.724979</td>\n",
       "      <td>0.567347</td>\n",
       "    </tr>\n",
       "    <tr>\n",
       "      <th>2015</th>\n",
       "      <td>600000</td>\n",
       "      <td>552220</td>\n",
       "      <td>552213</td>\n",
       "      <td>388487</td>\n",
       "      <td>0.999987</td>\n",
       "      <td>0.703509</td>\n",
       "      <td>0.647478</td>\n",
       "    </tr>\n",
       "    <tr>\n",
       "      <th>2016</th>\n",
       "      <td>800000</td>\n",
       "      <td>601809</td>\n",
       "      <td>601808</td>\n",
       "      <td>422039</td>\n",
       "      <td>0.999998</td>\n",
       "      <td>0.701285</td>\n",
       "      <td>0.527549</td>\n",
       "    </tr>\n",
       "    <tr>\n",
       "      <th>2017</th>\n",
       "      <td>800000</td>\n",
       "      <td>642077</td>\n",
       "      <td>642067</td>\n",
       "      <td>448567</td>\n",
       "      <td>0.999984</td>\n",
       "      <td>0.698630</td>\n",
       "      <td>0.560709</td>\n",
       "    </tr>\n",
       "    <tr>\n",
       "      <th>2018</th>\n",
       "      <td>900000</td>\n",
       "      <td>688510</td>\n",
       "      <td>688493</td>\n",
       "      <td>484706</td>\n",
       "      <td>0.999975</td>\n",
       "      <td>0.704010</td>\n",
       "      <td>0.538562</td>\n",
       "    </tr>\n",
       "    <tr>\n",
       "      <th>2019</th>\n",
       "      <td>1000000</td>\n",
       "      <td>736434</td>\n",
       "      <td>736429</td>\n",
       "      <td>516956</td>\n",
       "      <td>0.999993</td>\n",
       "      <td>0.701977</td>\n",
       "      <td>0.516956</td>\n",
       "    </tr>\n",
       "  </tbody>\n",
       "</table>\n",
       "</div>"
      ],
      "text/plain": [
       "        stats    data   notna   edges  notna_ratio  edges_ratio  overall_ratio\n",
       "2008        0  198523  168193  122170     0.847222     0.726368            inf\n",
       "2009        0  213266  177705  130923     0.833255     0.736743            inf\n",
       "2010        0  231408  190499  139350     0.823217     0.731500            inf\n",
       "2011        0  252827  204756  148583     0.809866     0.725659            inf\n",
       "2012        0  267547  267547  153827     1.000000     0.574953            inf\n",
       "2013        0  272791  218225  158883     0.799971     0.728070            inf\n",
       "2014   300000  234772  234771  170204     0.999996     0.724979       0.567347\n",
       "2015   600000  552220  552213  388487     0.999987     0.703509       0.647478\n",
       "2016   800000  601809  601808  422039     0.999998     0.701285       0.527549\n",
       "2017   800000  642077  642067  448567     0.999984     0.698630       0.560709\n",
       "2018   900000  688510  688493  484706     0.999975     0.704010       0.538562\n",
       "2019  1000000  736434  736429  516956     0.999993     0.701977       0.516956"
      ]
     },
     "execution_count": 17,
     "metadata": {},
     "output_type": "execute_result"
    }
   ],
   "source": [
    "check_df = pd.DataFrame.from_dict(check_dict, columns = [\"stats\", \"data\", \"notna\", \"edges\"], orient = \"index\")\n",
    "check_df[\"notna_ratio\"] = check_df[\"notna\"] / check_df[\"data\"]\n",
    "check_df[\"edges_ratio\"] = check_df[\"edges\"] / check_df[\"notna\"]\n",
    "check_df[\"overall_ratio\"] = check_df[\"edges\"] / check_df[\"stats\"]\n",
    "check_df"
   ]
  },
  {
   "cell_type": "code",
   "execution_count": 18,
   "id": "b9950584",
   "metadata": {},
   "outputs": [
    {
     "data": {
      "text/plain": [
       "0.7014523226527568"
      ]
     },
     "execution_count": 18,
     "metadata": {},
     "output_type": "execute_result"
    }
   ],
   "source": [
    "check_df[\"edges\"].sum() / check_df[\"notna\"].sum()"
   ]
  },
  {
   "cell_type": "code",
   "execution_count": 19,
   "id": "f5f9632a",
   "metadata": {},
   "outputs": [
    {
     "data": {
      "text/plain": [
       "(4892184, 4682706, 3284695)"
      ]
     },
     "execution_count": 19,
     "metadata": {},
     "output_type": "execute_result"
    }
   ],
   "source": [
    "check_df[\"data\"].sum(), check_df[\"notna\"].sum(), check_df[\"edges\"].sum()"
   ]
  }
 ],
 "metadata": {
  "kernelspec": {
   "display_name": "Python 3 (ipykernel)",
   "language": "python",
   "name": "python3"
  },
  "language_info": {
   "codemirror_mode": {
    "name": "ipython",
    "version": 3
   },
   "file_extension": ".py",
   "mimetype": "text/x-python",
   "name": "python",
   "nbconvert_exporter": "python",
   "pygments_lexer": "ipython3",
   "version": "3.9.12"
  }
 },
 "nbformat": 4,
 "nbformat_minor": 5
}
