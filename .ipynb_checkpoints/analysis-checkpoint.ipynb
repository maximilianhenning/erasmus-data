{
 "cells": [
  {
   "cell_type": "code",
   "execution_count": 25,
   "id": "0c48231c",
   "metadata": {},
   "outputs": [],
   "source": [
    "from glob import glob\n",
    "import pandas as pd\n",
    "import re"
   ]
  },
  {
   "cell_type": "code",
   "execution_count": 26,
   "id": "b97cdbdb",
   "metadata": {},
   "outputs": [],
   "source": [
    "check_dict = {}"
   ]
  },
  {
   "cell_type": "code",
   "execution_count": 27,
   "id": "28e121bb",
   "metadata": {},
   "outputs": [
    {
     "name": "stderr",
     "output_type": "stream",
     "text": [
      "C:\\Users\\lorga\\AppData\\Local\\Temp\\ipykernel_1260\\2515357350.py:8: DtypeWarning: Columns (17,20) have mixed types. Specify dtype option on import or set low_memory=False.\n",
      "  df = pd.read_csv(file, sep = \";\", encoding = target_encoding)\n",
      "C:\\Users\\lorga\\AppData\\Local\\Temp\\ipykernel_1260\\2515357350.py:8: DtypeWarning: Columns (6,20) have mixed types. Specify dtype option on import or set low_memory=False.\n",
      "  df = pd.read_csv(file, sep = \";\", encoding = target_encoding)\n",
      "C:\\Users\\lorga\\AppData\\Local\\Temp\\ipykernel_1260\\2515357350.py:8: DtypeWarning: Columns (6,20) have mixed types. Specify dtype option on import or set low_memory=False.\n",
      "  df = pd.read_csv(file, sep = \";\", encoding = target_encoding)\n",
      "C:\\Users\\lorga\\AppData\\Local\\Temp\\ipykernel_1260\\2515357350.py:8: DtypeWarning: Columns (8,30,31) have mixed types. Specify dtype option on import or set low_memory=False.\n",
      "  df = pd.read_csv(file, sep = \";\", encoding = target_encoding)\n",
      "C:\\Users\\lorga\\AppData\\Local\\Temp\\ipykernel_1260\\2515357350.py:8: DtypeWarning: Columns (7) have mixed types. Specify dtype option on import or set low_memory=False.\n",
      "  df = pd.read_csv(file, sep = \";\", encoding = target_encoding)\n",
      "C:\\Users\\lorga\\AppData\\Local\\Temp\\ipykernel_1260\\2515357350.py:8: DtypeWarning: Columns (13) have mixed types. Specify dtype option on import or set low_memory=False.\n",
      "  df = pd.read_csv(file, sep = \";\", encoding = target_encoding)\n",
      "C:\\Users\\lorga\\AppData\\Local\\Temp\\ipykernel_1260\\2515357350.py:8: DtypeWarning: Columns (14) have mixed types. Specify dtype option on import or set low_memory=False.\n",
      "  df = pd.read_csv(file, sep = \";\", encoding = target_encoding)\n"
     ]
    }
   ],
   "source": [
    "data_results = glob(\"data/*\")\n",
    "for file in data_results:\n",
    "    year = int(file.split(\"\\\\\")[1].split(\".\")[0])\n",
    "    if year != 2012:\n",
    "        target_encoding = \"utf-8\"\n",
    "    else:\n",
    "        target_encoding = \"latin-1\"\n",
    "    df = pd.read_csv(file, sep = \";\", encoding = target_encoding)\n",
    "    count = len(df.index)\n",
    "    check_dict[year] = [count]"
   ]
  },
  {
   "cell_type": "code",
   "execution_count": 28,
   "id": "011a9184",
   "metadata": {},
   "outputs": [
    {
     "name": "stderr",
     "output_type": "stream",
     "text": [
      "C:\\Users\\lorga\\AppData\\Local\\Temp\\ipykernel_1260\\367639825.py:8: DtypeWarning: Columns (12,13,14,15,20,21) have mixed types. Specify dtype option on import or set low_memory=False.\n",
      "  df = pd.read_csv(file, sep = \";\", encoding = target_encoding)\n",
      "C:\\Users\\lorga\\AppData\\Local\\Temp\\ipykernel_1260\\367639825.py:8: DtypeWarning: Columns (7,12,13,14,15,20,21) have mixed types. Specify dtype option on import or set low_memory=False.\n",
      "  df = pd.read_csv(file, sep = \";\", encoding = target_encoding)\n"
     ]
    }
   ],
   "source": [
    "notna_results = glob(\"edges_notna/*\")\n",
    "for file in notna_results:\n",
    "    year = int(file.split(\"\\\\\")[1].split(\".\")[0])\n",
    "    if year != 2012:\n",
    "        target_encoding = \"utf-8\"\n",
    "    else:\n",
    "        target_encoding = \"latin-1\"\n",
    "    df = pd.read_csv(file, sep = \";\", encoding = target_encoding)\n",
    "    count = len(df.index)\n",
    "    if year in check_dict.keys():\n",
    "        check_dict[year].append(count)"
   ]
  },
  {
   "cell_type": "code",
   "execution_count": 29,
   "id": "b7e6dcf9",
   "metadata": {},
   "outputs": [],
   "source": [
    "edge_results = glob(\"edges/*\")\n",
    "for file in edge_results:\n",
    "    year = file.split(\"\\\\\")[1].split(\".\")[0]\n",
    "    if len(year) == 4:\n",
    "        year = int(year)\n",
    "        df = pd.read_csv(file, sep = \";\", encoding = \"utf-8\")\n",
    "        count = df[\"count\"].sum()\n",
    "        if year in check_dict.keys():\n",
    "            check_dict[year].append(count)"
   ]
  },
  {
   "cell_type": "code",
   "execution_count": 30,
   "id": "fa1d7bd9",
   "metadata": {},
   "outputs": [
    {
     "data": {
      "text/html": [
       "<div>\n",
       "<style scoped>\n",
       "    .dataframe tbody tr th:only-of-type {\n",
       "        vertical-align: middle;\n",
       "    }\n",
       "\n",
       "    .dataframe tbody tr th {\n",
       "        vertical-align: top;\n",
       "    }\n",
       "\n",
       "    .dataframe thead th {\n",
       "        text-align: right;\n",
       "    }\n",
       "</style>\n",
       "<table border=\"1\" class=\"dataframe\">\n",
       "  <thead>\n",
       "    <tr style=\"text-align: right;\">\n",
       "      <th></th>\n",
       "      <th>data</th>\n",
       "      <th>notna</th>\n",
       "      <th>edges</th>\n",
       "      <th>ratio</th>\n",
       "    </tr>\n",
       "  </thead>\n",
       "  <tbody>\n",
       "    <tr>\n",
       "      <th>2008</th>\n",
       "      <td>198523</td>\n",
       "      <td>168193</td>\n",
       "      <td>122170.0</td>\n",
       "      <td>0.726368</td>\n",
       "    </tr>\n",
       "    <tr>\n",
       "      <th>2009</th>\n",
       "      <td>213266</td>\n",
       "      <td>177705</td>\n",
       "      <td>130923.0</td>\n",
       "      <td>0.736743</td>\n",
       "    </tr>\n",
       "    <tr>\n",
       "      <th>2010</th>\n",
       "      <td>231408</td>\n",
       "      <td>114784</td>\n",
       "      <td>NaN</td>\n",
       "      <td>NaN</td>\n",
       "    </tr>\n",
       "    <tr>\n",
       "      <th>2011</th>\n",
       "      <td>252827</td>\n",
       "      <td>124419</td>\n",
       "      <td>NaN</td>\n",
       "      <td>NaN</td>\n",
       "    </tr>\n",
       "    <tr>\n",
       "      <th>2012</th>\n",
       "      <td>267547</td>\n",
       "      <td>129755</td>\n",
       "      <td>NaN</td>\n",
       "      <td>NaN</td>\n",
       "    </tr>\n",
       "    <tr>\n",
       "      <th>2013</th>\n",
       "      <td>272791</td>\n",
       "      <td>134724</td>\n",
       "      <td>NaN</td>\n",
       "      <td>NaN</td>\n",
       "    </tr>\n",
       "    <tr>\n",
       "      <th>2014</th>\n",
       "      <td>234772</td>\n",
       "      <td>169983</td>\n",
       "      <td>NaN</td>\n",
       "      <td>NaN</td>\n",
       "    </tr>\n",
       "    <tr>\n",
       "      <th>2015</th>\n",
       "      <td>552220</td>\n",
       "      <td>388175</td>\n",
       "      <td>NaN</td>\n",
       "      <td>NaN</td>\n",
       "    </tr>\n",
       "    <tr>\n",
       "      <th>2016</th>\n",
       "      <td>601809</td>\n",
       "      <td>421671</td>\n",
       "      <td>NaN</td>\n",
       "      <td>NaN</td>\n",
       "    </tr>\n",
       "    <tr>\n",
       "      <th>2017</th>\n",
       "      <td>642077</td>\n",
       "      <td>448170</td>\n",
       "      <td>NaN</td>\n",
       "      <td>NaN</td>\n",
       "    </tr>\n",
       "    <tr>\n",
       "      <th>2018</th>\n",
       "      <td>688510</td>\n",
       "      <td>484232</td>\n",
       "      <td>NaN</td>\n",
       "      <td>NaN</td>\n",
       "    </tr>\n",
       "    <tr>\n",
       "      <th>2019</th>\n",
       "      <td>736434</td>\n",
       "      <td>516372</td>\n",
       "      <td>NaN</td>\n",
       "      <td>NaN</td>\n",
       "    </tr>\n",
       "  </tbody>\n",
       "</table>\n",
       "</div>"
      ],
      "text/plain": [
       "        data   notna     edges     ratio\n",
       "2008  198523  168193  122170.0  0.726368\n",
       "2009  213266  177705  130923.0  0.736743\n",
       "2010  231408  114784       NaN       NaN\n",
       "2011  252827  124419       NaN       NaN\n",
       "2012  267547  129755       NaN       NaN\n",
       "2013  272791  134724       NaN       NaN\n",
       "2014  234772  169983       NaN       NaN\n",
       "2015  552220  388175       NaN       NaN\n",
       "2016  601809  421671       NaN       NaN\n",
       "2017  642077  448170       NaN       NaN\n",
       "2018  688510  484232       NaN       NaN\n",
       "2019  736434  516372       NaN       NaN"
      ]
     },
     "execution_count": 30,
     "metadata": {},
     "output_type": "execute_result"
    }
   ],
   "source": [
    "check_df = pd.DataFrame.from_dict(check_dict, columns = [\"data\", \"notna\", \"edges\"], orient = \"index\")\n",
    "check_df[\"ratio\"] = check_df[\"edges\"] / check_df[\"notna\"]\n",
    "check_df"
   ]
  },
  {
   "cell_type": "code",
   "execution_count": 31,
   "id": "b9950584",
   "metadata": {},
   "outputs": [
    {
     "data": {
      "text/plain": [
       "0.07720526889438448"
      ]
     },
     "execution_count": 31,
     "metadata": {},
     "output_type": "execute_result"
    }
   ],
   "source": [
    "check_df[\"edges\"].sum() / check_df[\"notna\"].sum()"
   ]
  },
  {
   "cell_type": "code",
   "execution_count": null,
   "id": "7a7b2c22",
   "metadata": {},
   "outputs": [],
   "source": []
  },
  {
   "cell_type": "code",
   "execution_count": 5,
   "id": "4d9d9c35",
   "metadata": {},
   "outputs": [
    {
     "data": {
      "text/html": [
       "<div>\n",
       "<style scoped>\n",
       "    .dataframe tbody tr th:only-of-type {\n",
       "        vertical-align: middle;\n",
       "    }\n",
       "\n",
       "    .dataframe tbody tr th {\n",
       "        vertical-align: top;\n",
       "    }\n",
       "\n",
       "    .dataframe thead th {\n",
       "        text-align: right;\n",
       "    }\n",
       "</style>\n",
       "<table border=\"1\" class=\"dataframe\">\n",
       "  <thead>\n",
       "    <tr style=\"text-align: right;\">\n",
       "      <th></th>\n",
       "      <th>data</th>\n",
       "      <th>edges</th>\n",
       "      <th>ratio</th>\n",
       "    </tr>\n",
       "  </thead>\n",
       "  <tbody>\n",
       "    <tr>\n",
       "      <th>2008</th>\n",
       "      <td>198523</td>\n",
       "      <td>161178</td>\n",
       "      <td>0.811886</td>\n",
       "    </tr>\n",
       "    <tr>\n",
       "      <th>2009</th>\n",
       "      <td>213266</td>\n",
       "      <td>172641</td>\n",
       "      <td>0.809510</td>\n",
       "    </tr>\n",
       "    <tr>\n",
       "      <th>2010</th>\n",
       "      <td>231408</td>\n",
       "      <td>190369</td>\n",
       "      <td>0.822655</td>\n",
       "    </tr>\n",
       "    <tr>\n",
       "      <th>2011</th>\n",
       "      <td>252827</td>\n",
       "      <td>206431</td>\n",
       "      <td>0.816491</td>\n",
       "    </tr>\n",
       "    <tr>\n",
       "      <th>2012</th>\n",
       "      <td>267547</td>\n",
       "      <td>219032</td>\n",
       "      <td>0.818667</td>\n",
       "    </tr>\n",
       "    <tr>\n",
       "      <th>2013</th>\n",
       "      <td>272791</td>\n",
       "      <td>225790</td>\n",
       "      <td>0.827703</td>\n",
       "    </tr>\n",
       "    <tr>\n",
       "      <th>2014</th>\n",
       "      <td>234772</td>\n",
       "      <td>169984</td>\n",
       "      <td>0.724039</td>\n",
       "    </tr>\n",
       "    <tr>\n",
       "      <th>2015</th>\n",
       "      <td>552220</td>\n",
       "      <td>388176</td>\n",
       "      <td>0.702937</td>\n",
       "    </tr>\n",
       "    <tr>\n",
       "      <th>2016</th>\n",
       "      <td>601809</td>\n",
       "      <td>421672</td>\n",
       "      <td>0.700674</td>\n",
       "    </tr>\n",
       "    <tr>\n",
       "      <th>2017</th>\n",
       "      <td>642077</td>\n",
       "      <td>448174</td>\n",
       "      <td>0.698007</td>\n",
       "    </tr>\n",
       "    <tr>\n",
       "      <th>2018</th>\n",
       "      <td>688510</td>\n",
       "      <td>484237</td>\n",
       "      <td>0.703311</td>\n",
       "    </tr>\n",
       "    <tr>\n",
       "      <th>2019</th>\n",
       "      <td>736434</td>\n",
       "      <td>516374</td>\n",
       "      <td>0.701182</td>\n",
       "    </tr>\n",
       "  </tbody>\n",
       "</table>\n",
       "</div>"
      ],
      "text/plain": [
       "        data   edges     ratio\n",
       "2008  198523  161178  0.811886\n",
       "2009  213266  172641  0.809510\n",
       "2010  231408  190369  0.822655\n",
       "2011  252827  206431  0.816491\n",
       "2012  267547  219032  0.818667\n",
       "2013  272791  225790  0.827703\n",
       "2014  234772  169984  0.724039\n",
       "2015  552220  388176  0.702937\n",
       "2016  601809  421672  0.700674\n",
       "2017  642077  448174  0.698007\n",
       "2018  688510  484237  0.703311\n",
       "2019  736434  516374  0.701182"
      ]
     },
     "execution_count": 5,
     "metadata": {},
     "output_type": "execute_result"
    }
   ],
   "source": [
    "check_df = pd.DataFrame.from_dict(check_dict, columns = [\"data\", \"edges\"], orient = \"index\")\n",
    "check_df[\"ratio\"] = check_df[\"edges\"] / check_df[\"data\"]\n",
    "check_df"
   ]
  },
  {
   "cell_type": "code",
   "execution_count": 6,
   "id": "dc298b88",
   "metadata": {},
   "outputs": [
    {
     "data": {
      "text/plain": [
       "0.7366971479404699"
      ]
     },
     "execution_count": 6,
     "metadata": {},
     "output_type": "execute_result"
    }
   ],
   "source": [
    "check_df[\"edges\"].sum() / check_df[\"data\"].sum()"
   ]
  },
  {
   "cell_type": "code",
   "execution_count": null,
   "id": "293c9030",
   "metadata": {},
   "outputs": [],
   "source": []
  },
  {
   "cell_type": "code",
   "execution_count": 13,
   "id": "de460269",
   "metadata": {},
   "outputs": [],
   "source": [
    "edges_df = pd.read_csv(\"output/flows.csv\", sep = \";\", encoding = \"utf-8\")\n",
    "edges_filtered_df = edges_df.loc[edges_df[\"count\"] > 1]"
   ]
  },
  {
   "cell_type": "code",
   "execution_count": 18,
   "id": "ba8e181f",
   "metadata": {},
   "outputs": [
    {
     "data": {
      "text/plain": [
       "(19334, 854216)"
      ]
     },
     "execution_count": 18,
     "metadata": {},
     "output_type": "execute_result"
    }
   ],
   "source": [
    "edges_origins_list = edges_df[\"origin\"].tolist()\n",
    "edges_dest_list = edges_df[\"dest\"].tolist()\n",
    "edges_city_list = list(set(edges_origins_list + edges_dest_list))\n",
    "len(edges_city_list), len(edges_df.index)"
   ]
  },
  {
   "cell_type": "code",
   "execution_count": 17,
   "id": "d7e77ef7",
   "metadata": {},
   "outputs": [
    {
     "data": {
      "text/plain": [
       "(12730, 529825)"
      ]
     },
     "execution_count": 17,
     "metadata": {},
     "output_type": "execute_result"
    }
   ],
   "source": [
    "edges_filtered_origins_list = edges_filtered_df[\"origin\"].tolist()\n",
    "edges_filtered_dest_list = edges_filtered_df[\"dest\"].tolist()\n",
    "edges_filtered_city_list = list(set(edges_filtered_origins_list + edges_filtered_dest_list))\n",
    "len(edges_filtered_city_list), len(edges_filtered_df.index)"
   ]
  },
  {
   "cell_type": "code",
   "execution_count": 19,
   "id": "8ac05fc1",
   "metadata": {},
   "outputs": [
    {
     "data": {
      "text/plain": [
       "3279667"
      ]
     },
     "execution_count": 19,
     "metadata": {},
     "output_type": "execute_result"
    }
   ],
   "source": [
    "edges_filtered_df[\"count\"].sum()"
   ]
  },
  {
   "cell_type": "code",
   "execution_count": 20,
   "id": "b98de67f",
   "metadata": {},
   "outputs": [
    {
     "data": {
      "text/plain": [
       "3604058"
      ]
     },
     "execution_count": 20,
     "metadata": {},
     "output_type": "execute_result"
    }
   ],
   "source": [
    "edges_df[\"count\"].sum()"
   ]
  },
  {
   "cell_type": "code",
   "execution_count": 11,
   "id": "da5e4f2d",
   "metadata": {},
   "outputs": [
    {
     "data": {
      "text/html": [
       "<div>\n",
       "<style scoped>\n",
       "    .dataframe tbody tr th:only-of-type {\n",
       "        vertical-align: middle;\n",
       "    }\n",
       "\n",
       "    .dataframe tbody tr th {\n",
       "        vertical-align: top;\n",
       "    }\n",
       "\n",
       "    .dataframe thead th {\n",
       "        text-align: right;\n",
       "    }\n",
       "</style>\n",
       "<table border=\"1\" class=\"dataframe\">\n",
       "  <thead>\n",
       "    <tr style=\"text-align: right;\">\n",
       "      <th></th>\n",
       "      <th>data</th>\n",
       "      <th>edges</th>\n",
       "      <th>ratio</th>\n",
       "    </tr>\n",
       "  </thead>\n",
       "  <tbody>\n",
       "    <tr>\n",
       "      <th>2008</th>\n",
       "      <td>198523</td>\n",
       "      <td>161178</td>\n",
       "      <td>0.811886</td>\n",
       "    </tr>\n",
       "    <tr>\n",
       "      <th>2009</th>\n",
       "      <td>213266</td>\n",
       "      <td>172641</td>\n",
       "      <td>0.809510</td>\n",
       "    </tr>\n",
       "    <tr>\n",
       "      <th>2010</th>\n",
       "      <td>231408</td>\n",
       "      <td>190369</td>\n",
       "      <td>0.822655</td>\n",
       "    </tr>\n",
       "    <tr>\n",
       "      <th>2011</th>\n",
       "      <td>252827</td>\n",
       "      <td>206431</td>\n",
       "      <td>0.816491</td>\n",
       "    </tr>\n",
       "    <tr>\n",
       "      <th>2013</th>\n",
       "      <td>272791</td>\n",
       "      <td>225790</td>\n",
       "      <td>0.827703</td>\n",
       "    </tr>\n",
       "    <tr>\n",
       "      <th>2014</th>\n",
       "      <td>234772</td>\n",
       "      <td>169984</td>\n",
       "      <td>0.724039</td>\n",
       "    </tr>\n",
       "    <tr>\n",
       "      <th>2015</th>\n",
       "      <td>552220</td>\n",
       "      <td>388176</td>\n",
       "      <td>0.702937</td>\n",
       "    </tr>\n",
       "    <tr>\n",
       "      <th>2016</th>\n",
       "      <td>601809</td>\n",
       "      <td>421672</td>\n",
       "      <td>0.700674</td>\n",
       "    </tr>\n",
       "    <tr>\n",
       "      <th>2017</th>\n",
       "      <td>642077</td>\n",
       "      <td>448174</td>\n",
       "      <td>0.698007</td>\n",
       "    </tr>\n",
       "    <tr>\n",
       "      <th>2018</th>\n",
       "      <td>688510</td>\n",
       "      <td>484237</td>\n",
       "      <td>0.703311</td>\n",
       "    </tr>\n",
       "    <tr>\n",
       "      <th>2019</th>\n",
       "      <td>736434</td>\n",
       "      <td>516374</td>\n",
       "      <td>0.701182</td>\n",
       "    </tr>\n",
       "  </tbody>\n",
       "</table>\n",
       "</div>"
      ],
      "text/plain": [
       "        data   edges     ratio\n",
       "2008  198523  161178  0.811886\n",
       "2009  213266  172641  0.809510\n",
       "2010  231408  190369  0.822655\n",
       "2011  252827  206431  0.816491\n",
       "2013  272791  225790  0.827703\n",
       "2014  234772  169984  0.724039\n",
       "2015  552220  388176  0.702937\n",
       "2016  601809  421672  0.700674\n",
       "2017  642077  448174  0.698007\n",
       "2018  688510  484237  0.703311\n",
       "2019  736434  516374  0.701182"
      ]
     },
     "execution_count": 11,
     "metadata": {},
     "output_type": "execute_result"
    }
   ],
   "source": [
    "check_df = pd.DataFrame.from_dict(check_dict, columns = [\"data\", \"edges\"], orient = \"index\")\n",
    "check_df[\"ratio\"] = check_df[\"edges\"] / check_df[\"data\"]\n",
    "check_df"
   ]
  },
  {
   "cell_type": "code",
   "execution_count": 12,
   "id": "078d246b",
   "metadata": {},
   "outputs": [
    {
     "data": {
      "text/plain": [
       "0.731954962086754"
      ]
     },
     "execution_count": 12,
     "metadata": {},
     "output_type": "execute_result"
    }
   ],
   "source": [
    "check_df[\"edges\"].sum() / check_df[\"data\"].sum()"
   ]
  },
  {
   "cell_type": "code",
   "execution_count": 10,
   "id": "904f708c",
   "metadata": {},
   "outputs": [
    {
     "name": "stderr",
     "output_type": "stream",
     "text": [
      "C:\\Users\\lorga\\AppData\\Local\\Temp\\ipykernel_16508\\3318989483.py:17: DtypeWarning: Columns (13) have mixed types. Specify dtype option on import or set low_memory=False.\n",
      "  df = pd.read_csv(file, sep = \";\", encoding = \"utf-8\")\n",
      "C:\\Users\\lorga\\AppData\\Local\\Temp\\ipykernel_16508\\3318989483.py:17: DtypeWarning: Columns (14) have mixed types. Specify dtype option on import or set low_memory=False.\n",
      "  df = pd.read_csv(file, sep = \";\", encoding = \"utf-8\")\n"
     ]
    },
    {
     "name": "stdout",
     "output_type": "stream",
     "text": [
      "77215\n"
     ]
    }
   ],
   "source": [
    "data_results = glob(\"data/*\")\n",
    "\n",
    "def clean_and_append(city):\n",
    "    city = str(city)\n",
    "    city = re.sub(r\"\\(.*?\\)\", \"\", city)\n",
    "    city = city.lower()\n",
    "    city = city.strip()\n",
    "    city = city.replace(\"  \", \" \")\n",
    "    city_split = [token for token in city.split(\" \") if not token.isdigit()]\n",
    "    city = \" \".join(city_split)\n",
    "    return city\n",
    "\n",
    "city_list = []\n",
    "for file in data_results:\n",
    "    year = int(file.split(\"\\\\\")[1].split(\".\")[0])\n",
    "    if year > 2013:\n",
    "        df = pd.read_csv(file, sep = \";\", encoding = \"utf-8\")\n",
    "        sending_list = df[\"Sending City\"].tolist()\n",
    "        for city in sending_list:\n",
    "            city = clean_and_append(city)\n",
    "            city_list.append(city)\n",
    "        receiving_list = df[\"Receiving City\"].tolist()\n",
    "        for city in receiving_list:\n",
    "            city = clean_and_append(city)\n",
    "            city_list.append(city)\n",
    "city_list = list(set(city_list))\n",
    "print(len(city_list))"
   ]
  },
  {
   "cell_type": "code",
   "execution_count": null,
   "id": "2a3eeb9d",
   "metadata": {},
   "outputs": [],
   "source": []
  }
 ],
 "metadata": {
  "kernelspec": {
   "display_name": "Python 3 (ipykernel)",
   "language": "python",
   "name": "python3"
  },
  "language_info": {
   "codemirror_mode": {
    "name": "ipython",
    "version": 3
   },
   "file_extension": ".py",
   "mimetype": "text/x-python",
   "name": "python",
   "nbconvert_exporter": "python",
   "pygments_lexer": "ipython3",
   "version": "3.9.12"
  }
 },
 "nbformat": 4,
 "nbformat_minor": 5
}
