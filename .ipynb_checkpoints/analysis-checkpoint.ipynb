{
 "cells": [
  {
   "cell_type": "code",
   "execution_count": 1,
   "id": "0c48231c",
   "metadata": {},
   "outputs": [],
   "source": [
    "from glob import glob\n",
    "import pandas as pd\n",
    "import re"
   ]
  },
  {
   "cell_type": "code",
   "execution_count": 2,
   "id": "cc5f0e22",
   "metadata": {},
   "outputs": [],
   "source": [
    "check_dict = {\n",
    "    2008: [0],\n",
    "    2009: [0],\n",
    "    2010: [0],\n",
    "    2011: [0],\n",
    "    2012: [0],\n",
    "    2013: [0],\n",
    "    2014: [0],\n",
    "    2015: [0],\n",
    "    2016: [0],\n",
    "    2017: [0],\n",
    "    2018: [0],\n",
    "    2019: [0],\n",
    "    2020: [0]\n",
    "}"
   ]
  },
  {
   "cell_type": "code",
   "execution_count": 3,
   "id": "28e121bb",
   "metadata": {},
   "outputs": [
    {
     "name": "stderr",
     "output_type": "stream",
     "text": [
      "C:\\Users\\lorga\\AppData\\Local\\Temp\\ipykernel_11188\\3756270116.py:8: DtypeWarning: Columns (17,20) have mixed types. Specify dtype option on import or set low_memory=False.\n",
      "  df = pd.read_csv(file, sep = \";\", encoding = target_encoding)\n",
      "C:\\Users\\lorga\\AppData\\Local\\Temp\\ipykernel_11188\\3756270116.py:8: DtypeWarning: Columns (6,20) have mixed types. Specify dtype option on import or set low_memory=False.\n",
      "  df = pd.read_csv(file, sep = \";\", encoding = target_encoding)\n",
      "C:\\Users\\lorga\\AppData\\Local\\Temp\\ipykernel_11188\\3756270116.py:8: DtypeWarning: Columns (6,20) have mixed types. Specify dtype option on import or set low_memory=False.\n",
      "  df = pd.read_csv(file, sep = \";\", encoding = target_encoding)\n",
      "C:\\Users\\lorga\\AppData\\Local\\Temp\\ipykernel_11188\\3756270116.py:8: DtypeWarning: Columns (8,30,31) have mixed types. Specify dtype option on import or set low_memory=False.\n",
      "  df = pd.read_csv(file, sep = \";\", encoding = target_encoding)\n",
      "C:\\Users\\lorga\\AppData\\Local\\Temp\\ipykernel_11188\\3756270116.py:8: DtypeWarning: Columns (7) have mixed types. Specify dtype option on import or set low_memory=False.\n",
      "  df = pd.read_csv(file, sep = \";\", encoding = target_encoding)\n",
      "C:\\Users\\lorga\\AppData\\Local\\Temp\\ipykernel_11188\\3756270116.py:8: DtypeWarning: Columns (14) have mixed types. Specify dtype option on import or set low_memory=False.\n",
      "  df = pd.read_csv(file, sep = \";\", encoding = target_encoding)\n",
      "C:\\Users\\lorga\\AppData\\Local\\Temp\\ipykernel_11188\\3756270116.py:8: DtypeWarning: Columns (14) have mixed types. Specify dtype option on import or set low_memory=False.\n",
      "  df = pd.read_csv(file, sep = \";\", encoding = target_encoding)\n",
      "C:\\Users\\lorga\\AppData\\Local\\Temp\\ipykernel_11188\\3756270116.py:8: DtypeWarning: Columns (14) have mixed types. Specify dtype option on import or set low_memory=False.\n",
      "  df = pd.read_csv(file, sep = \";\", encoding = target_encoding)\n",
      "C:\\Users\\lorga\\AppData\\Local\\Temp\\ipykernel_11188\\3756270116.py:8: DtypeWarning: Columns (14) have mixed types. Specify dtype option on import or set low_memory=False.\n",
      "  df = pd.read_csv(file, sep = \";\", encoding = target_encoding)\n",
      "C:\\Users\\lorga\\AppData\\Local\\Temp\\ipykernel_11188\\3756270116.py:8: DtypeWarning: Columns (14) have mixed types. Specify dtype option on import or set low_memory=False.\n",
      "  df = pd.read_csv(file, sep = \";\", encoding = target_encoding)\n",
      "C:\\Users\\lorga\\AppData\\Local\\Temp\\ipykernel_11188\\3756270116.py:8: DtypeWarning: Columns (14) have mixed types. Specify dtype option on import or set low_memory=False.\n",
      "  df = pd.read_csv(file, sep = \";\", encoding = target_encoding)\n"
     ]
    }
   ],
   "source": [
    "data_results = glob(\"data/*\")\n",
    "for file in data_results:\n",
    "    year = int(file.split(\"\\\\\")[1].split(\".\")[0])\n",
    "    if year in [2012, 2020]:\n",
    "        target_encoding = \"latin-1\"\n",
    "    else:\n",
    "        target_encoding = \"utf-8\"\n",
    "    df = pd.read_csv(file, sep = \";\", encoding = target_encoding)\n",
    "    count = len(df.index)\n",
    "    check_dict[year].append(count)"
   ]
  },
  {
   "cell_type": "code",
   "execution_count": 4,
   "id": "011a9184",
   "metadata": {},
   "outputs": [
    {
     "name": "stderr",
     "output_type": "stream",
     "text": [
      "C:\\Users\\lorga\\AppData\\Local\\Temp\\ipykernel_11188\\3648737788.py:8: DtypeWarning: Columns (12,13,14,15,20,21) have mixed types. Specify dtype option on import or set low_memory=False.\n",
      "  df = pd.read_csv(file, sep = \";\", encoding = target_encoding)\n",
      "C:\\Users\\lorga\\AppData\\Local\\Temp\\ipykernel_11188\\3648737788.py:8: DtypeWarning: Columns (7,12,13,14,15,20,21) have mixed types. Specify dtype option on import or set low_memory=False.\n",
      "  df = pd.read_csv(file, sep = \";\", encoding = target_encoding)\n",
      "C:\\Users\\lorga\\AppData\\Local\\Temp\\ipykernel_11188\\3648737788.py:8: DtypeWarning: Columns (7,12,13,14,15,20,21) have mixed types. Specify dtype option on import or set low_memory=False.\n",
      "  df = pd.read_csv(file, sep = \";\", encoding = target_encoding)\n",
      "C:\\Users\\lorga\\AppData\\Local\\Temp\\ipykernel_11188\\3648737788.py:8: DtypeWarning: Columns (7,12,13,14,15,20,21) have mixed types. Specify dtype option on import or set low_memory=False.\n",
      "  df = pd.read_csv(file, sep = \";\", encoding = target_encoding)\n",
      "C:\\Users\\lorga\\AppData\\Local\\Temp\\ipykernel_11188\\3648737788.py:8: DtypeWarning: Columns (9,31,32) have mixed types. Specify dtype option on import or set low_memory=False.\n",
      "  df = pd.read_csv(file, sep = \";\", encoding = target_encoding)\n",
      "C:\\Users\\lorga\\AppData\\Local\\Temp\\ipykernel_11188\\3648737788.py:8: DtypeWarning: Columns (15) have mixed types. Specify dtype option on import or set low_memory=False.\n",
      "  df = pd.read_csv(file, sep = \";\", encoding = target_encoding)\n",
      "C:\\Users\\lorga\\AppData\\Local\\Temp\\ipykernel_11188\\3648737788.py:8: DtypeWarning: Columns (15) have mixed types. Specify dtype option on import or set low_memory=False.\n",
      "  df = pd.read_csv(file, sep = \";\", encoding = target_encoding)\n",
      "C:\\Users\\lorga\\AppData\\Local\\Temp\\ipykernel_11188\\3648737788.py:8: DtypeWarning: Columns (15) have mixed types. Specify dtype option on import or set low_memory=False.\n",
      "  df = pd.read_csv(file, sep = \";\", encoding = target_encoding)\n",
      "C:\\Users\\lorga\\AppData\\Local\\Temp\\ipykernel_11188\\3648737788.py:8: DtypeWarning: Columns (15) have mixed types. Specify dtype option on import or set low_memory=False.\n",
      "  df = pd.read_csv(file, sep = \";\", encoding = target_encoding)\n",
      "C:\\Users\\lorga\\AppData\\Local\\Temp\\ipykernel_11188\\3648737788.py:8: DtypeWarning: Columns (15) have mixed types. Specify dtype option on import or set low_memory=False.\n",
      "  df = pd.read_csv(file, sep = \";\", encoding = target_encoding)\n",
      "C:\\Users\\lorga\\AppData\\Local\\Temp\\ipykernel_11188\\3648737788.py:8: DtypeWarning: Columns (15) have mixed types. Specify dtype option on import or set low_memory=False.\n",
      "  df = pd.read_csv(file, sep = \";\", encoding = target_encoding)\n"
     ]
    }
   ],
   "source": [
    "notna_results = glob(\"data_notna/*\")\n",
    "for file in notna_results:\n",
    "    year = int(file.split(\"\\\\\")[1].split(\".\")[0])\n",
    "    if year != 2012:\n",
    "        target_encoding = \"utf-8\"\n",
    "    else:\n",
    "        target_encoding = \"latin-1\"\n",
    "    df = pd.read_csv(file, sep = \";\", encoding = target_encoding)\n",
    "    count = len(df.index)\n",
    "    if year in check_dict.keys():\n",
    "        check_dict[year].append(count)"
   ]
  },
  {
   "cell_type": "code",
   "execution_count": 5,
   "id": "b7e6dcf9",
   "metadata": {},
   "outputs": [],
   "source": [
    "edge_results = glob(\"edges/*\")\n",
    "for file in edge_results:\n",
    "    year = file.split(\"\\\\\")[1].split(\".\")[0]\n",
    "    if len(year) == 4:\n",
    "        year = int(year)\n",
    "        df = pd.read_csv(file, sep = \";\", encoding = \"utf-8\")\n",
    "        count = df[\"count\"].sum()\n",
    "        if year in check_dict.keys():\n",
    "            check_dict[year].append(count)"
   ]
  },
  {
   "cell_type": "code",
   "execution_count": 6,
   "id": "fa1d7bd9",
   "metadata": {},
   "outputs": [
    {
     "data": {
      "text/html": [
       "<div>\n",
       "<style scoped>\n",
       "    .dataframe tbody tr th:only-of-type {\n",
       "        vertical-align: middle;\n",
       "    }\n",
       "\n",
       "    .dataframe tbody tr th {\n",
       "        vertical-align: top;\n",
       "    }\n",
       "\n",
       "    .dataframe thead th {\n",
       "        text-align: right;\n",
       "    }\n",
       "</style>\n",
       "<table border=\"1\" class=\"dataframe\">\n",
       "  <thead>\n",
       "    <tr style=\"text-align: right;\">\n",
       "      <th></th>\n",
       "      <th>stats</th>\n",
       "      <th>data</th>\n",
       "      <th>notna</th>\n",
       "      <th>edges</th>\n",
       "      <th>notna_ratio</th>\n",
       "      <th>edges_ratio</th>\n",
       "      <th>overall_ratio</th>\n",
       "    </tr>\n",
       "  </thead>\n",
       "  <tbody>\n",
       "    <tr>\n",
       "      <th>2008</th>\n",
       "      <td>0</td>\n",
       "      <td>198523</td>\n",
       "      <td>168193</td>\n",
       "      <td>65256</td>\n",
       "      <td>0.847222</td>\n",
       "      <td>0.387983</td>\n",
       "      <td>inf</td>\n",
       "    </tr>\n",
       "    <tr>\n",
       "      <th>2009</th>\n",
       "      <td>0</td>\n",
       "      <td>213266</td>\n",
       "      <td>177705</td>\n",
       "      <td>69482</td>\n",
       "      <td>0.833255</td>\n",
       "      <td>0.390996</td>\n",
       "      <td>inf</td>\n",
       "    </tr>\n",
       "    <tr>\n",
       "      <th>2010</th>\n",
       "      <td>0</td>\n",
       "      <td>231408</td>\n",
       "      <td>190499</td>\n",
       "      <td>73728</td>\n",
       "      <td>0.823217</td>\n",
       "      <td>0.387026</td>\n",
       "      <td>inf</td>\n",
       "    </tr>\n",
       "    <tr>\n",
       "      <th>2011</th>\n",
       "      <td>0</td>\n",
       "      <td>252827</td>\n",
       "      <td>204756</td>\n",
       "      <td>78919</td>\n",
       "      <td>0.809866</td>\n",
       "      <td>0.385429</td>\n",
       "      <td>inf</td>\n",
       "    </tr>\n",
       "    <tr>\n",
       "      <th>2012</th>\n",
       "      <td>0</td>\n",
       "      <td>267547</td>\n",
       "      <td>267547</td>\n",
       "      <td>82119</td>\n",
       "      <td>1.000000</td>\n",
       "      <td>0.306933</td>\n",
       "      <td>inf</td>\n",
       "    </tr>\n",
       "    <tr>\n",
       "      <th>2013</th>\n",
       "      <td>0</td>\n",
       "      <td>272791</td>\n",
       "      <td>218225</td>\n",
       "      <td>84224</td>\n",
       "      <td>0.799971</td>\n",
       "      <td>0.385950</td>\n",
       "      <td>inf</td>\n",
       "    </tr>\n",
       "    <tr>\n",
       "      <th>2014</th>\n",
       "      <td>0</td>\n",
       "      <td>235414</td>\n",
       "      <td>235413</td>\n",
       "      <td>170622</td>\n",
       "      <td>0.999996</td>\n",
       "      <td>0.724777</td>\n",
       "      <td>inf</td>\n",
       "    </tr>\n",
       "    <tr>\n",
       "      <th>2015</th>\n",
       "      <td>0</td>\n",
       "      <td>553654</td>\n",
       "      <td>553647</td>\n",
       "      <td>389285</td>\n",
       "      <td>0.999987</td>\n",
       "      <td>0.703129</td>\n",
       "      <td>inf</td>\n",
       "    </tr>\n",
       "    <tr>\n",
       "      <th>2016</th>\n",
       "      <td>0</td>\n",
       "      <td>603079</td>\n",
       "      <td>603078</td>\n",
       "      <td>422856</td>\n",
       "      <td>0.999998</td>\n",
       "      <td>0.701163</td>\n",
       "      <td>inf</td>\n",
       "    </tr>\n",
       "    <tr>\n",
       "      <th>2017</th>\n",
       "      <td>0</td>\n",
       "      <td>643346</td>\n",
       "      <td>643336</td>\n",
       "      <td>449303</td>\n",
       "      <td>0.999984</td>\n",
       "      <td>0.698396</td>\n",
       "      <td>inf</td>\n",
       "    </tr>\n",
       "    <tr>\n",
       "      <th>2018</th>\n",
       "      <td>0</td>\n",
       "      <td>690331</td>\n",
       "      <td>690314</td>\n",
       "      <td>484544</td>\n",
       "      <td>0.999975</td>\n",
       "      <td>0.701918</td>\n",
       "      <td>inf</td>\n",
       "    </tr>\n",
       "    <tr>\n",
       "      <th>2019</th>\n",
       "      <td>0</td>\n",
       "      <td>736434</td>\n",
       "      <td>736429</td>\n",
       "      <td>517085</td>\n",
       "      <td>0.999993</td>\n",
       "      <td>0.702152</td>\n",
       "      <td>inf</td>\n",
       "    </tr>\n",
       "    <tr>\n",
       "      <th>2020</th>\n",
       "      <td>0</td>\n",
       "      <td>277025</td>\n",
       "      <td>276890</td>\n",
       "      <td>197780</td>\n",
       "      <td>0.999513</td>\n",
       "      <td>0.714291</td>\n",
       "      <td>inf</td>\n",
       "    </tr>\n",
       "  </tbody>\n",
       "</table>\n",
       "</div>"
      ],
      "text/plain": [
       "      stats    data   notna   edges  notna_ratio  edges_ratio  overall_ratio\n",
       "2008      0  198523  168193   65256     0.847222     0.387983            inf\n",
       "2009      0  213266  177705   69482     0.833255     0.390996            inf\n",
       "2010      0  231408  190499   73728     0.823217     0.387026            inf\n",
       "2011      0  252827  204756   78919     0.809866     0.385429            inf\n",
       "2012      0  267547  267547   82119     1.000000     0.306933            inf\n",
       "2013      0  272791  218225   84224     0.799971     0.385950            inf\n",
       "2014      0  235414  235413  170622     0.999996     0.724777            inf\n",
       "2015      0  553654  553647  389285     0.999987     0.703129            inf\n",
       "2016      0  603079  603078  422856     0.999998     0.701163            inf\n",
       "2017      0  643346  643336  449303     0.999984     0.698396            inf\n",
       "2018      0  690331  690314  484544     0.999975     0.701918            inf\n",
       "2019      0  736434  736429  517085     0.999993     0.702152            inf\n",
       "2020      0  277025  276890  197780     0.999513     0.714291            inf"
      ]
     },
     "execution_count": 6,
     "metadata": {},
     "output_type": "execute_result"
    }
   ],
   "source": [
    "check_df = pd.DataFrame.from_dict(check_dict, columns = [\"stats\", \"data\", \"notna\", \"edges\"], orient = \"index\")\n",
    "check_df[\"notna_ratio\"] = check_df[\"notna\"] / check_df[\"data\"]\n",
    "check_df[\"edges_ratio\"] = check_df[\"edges\"] / check_df[\"notna\"]\n",
    "check_df[\"overall_ratio\"] = check_df[\"edges\"] / check_df[\"stats\"]\n",
    "check_df"
   ]
  },
  {
   "cell_type": "code",
   "execution_count": 7,
   "id": "b9950584",
   "metadata": {},
   "outputs": [
    {
     "data": {
      "text/plain": [
       "0.6212612000889242"
      ]
     },
     "execution_count": 7,
     "metadata": {},
     "output_type": "execute_result"
    }
   ],
   "source": [
    "check_df[\"edges\"].sum() / check_df[\"notna\"].sum() \n",
    "# Von 0.7 zu 0.62 wegen neuem ECHE? Brauche alte Version + vor 2021, gibts aber nicht"
   ]
  },
  {
   "cell_type": "code",
   "execution_count": 8,
   "id": "f5f9632a",
   "metadata": {},
   "outputs": [
    {
     "data": {
      "text/plain": [
       "(5175645, 4966032, 3085203)"
      ]
     },
     "execution_count": 8,
     "metadata": {},
     "output_type": "execute_result"
    }
   ],
   "source": [
    "check_df[\"data\"].sum(), check_df[\"notna\"].sum(), check_df[\"edges\"].sum()"
   ]
  },
  {
   "cell_type": "code",
   "execution_count": null,
   "id": "489a1765",
   "metadata": {},
   "outputs": [],
   "source": []
  }
 ],
 "metadata": {
  "kernelspec": {
   "display_name": "Python 3 (ipykernel)",
   "language": "python",
   "name": "python3"
  },
  "language_info": {
   "codemirror_mode": {
    "name": "ipython",
    "version": 3
   },
   "file_extension": ".py",
   "mimetype": "text/x-python",
   "name": "python",
   "nbconvert_exporter": "python",
   "pygments_lexer": "ipython3",
   "version": "3.9.12"
  }
 },
 "nbformat": 4,
 "nbformat_minor": 5
}
