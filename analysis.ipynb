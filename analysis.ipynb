{
 "cells": [
  {
   "cell_type": "code",
   "execution_count": 1,
   "id": "0c48231c",
   "metadata": {},
   "outputs": [],
   "source": [
    "from glob import glob\n",
    "import pandas as pd\n",
    "import re"
   ]
  },
  {
   "cell_type": "code",
   "execution_count": 10,
   "id": "b97cdbdb",
   "metadata": {},
   "outputs": [],
   "source": [
    "check_dict = {}"
   ]
  },
  {
   "cell_type": "code",
   "execution_count": 11,
   "id": "28e121bb",
   "metadata": {},
   "outputs": [
    {
     "name": "stderr",
     "output_type": "stream",
     "text": [
      "C:\\Users\\lorga\\AppData\\Local\\Temp\\ipykernel_6924\\2515357350.py:8: DtypeWarning: Columns (17,20) have mixed types. Specify dtype option on import or set low_memory=False.\n",
      "  df = pd.read_csv(file, sep = \";\", encoding = target_encoding)\n",
      "C:\\Users\\lorga\\AppData\\Local\\Temp\\ipykernel_6924\\2515357350.py:8: DtypeWarning: Columns (6,20) have mixed types. Specify dtype option on import or set low_memory=False.\n",
      "  df = pd.read_csv(file, sep = \";\", encoding = target_encoding)\n",
      "C:\\Users\\lorga\\AppData\\Local\\Temp\\ipykernel_6924\\2515357350.py:8: DtypeWarning: Columns (6,20) have mixed types. Specify dtype option on import or set low_memory=False.\n",
      "  df = pd.read_csv(file, sep = \";\", encoding = target_encoding)\n",
      "C:\\Users\\lorga\\AppData\\Local\\Temp\\ipykernel_6924\\2515357350.py:8: DtypeWarning: Columns (8,30,31) have mixed types. Specify dtype option on import or set low_memory=False.\n",
      "  df = pd.read_csv(file, sep = \";\", encoding = target_encoding)\n",
      "C:\\Users\\lorga\\AppData\\Local\\Temp\\ipykernel_6924\\2515357350.py:8: DtypeWarning: Columns (7) have mixed types. Specify dtype option on import or set low_memory=False.\n",
      "  df = pd.read_csv(file, sep = \";\", encoding = target_encoding)\n",
      "C:\\Users\\lorga\\AppData\\Local\\Temp\\ipykernel_6924\\2515357350.py:8: DtypeWarning: Columns (13) have mixed types. Specify dtype option on import or set low_memory=False.\n",
      "  df = pd.read_csv(file, sep = \";\", encoding = target_encoding)\n",
      "C:\\Users\\lorga\\AppData\\Local\\Temp\\ipykernel_6924\\2515357350.py:8: DtypeWarning: Columns (14) have mixed types. Specify dtype option on import or set low_memory=False.\n",
      "  df = pd.read_csv(file, sep = \";\", encoding = target_encoding)\n"
     ]
    }
   ],
   "source": [
    "data_results = glob(\"data/*\")\n",
    "for file in data_results:\n",
    "    year = int(file.split(\"\\\\\")[1].split(\".\")[0])\n",
    "    if year != 2012:\n",
    "        target_encoding = \"utf-8\"\n",
    "    else:\n",
    "        target_encoding = \"latin-1\"\n",
    "    df = pd.read_csv(file, sep = \";\", encoding = target_encoding)\n",
    "    count = len(df.index)\n",
    "    check_dict[year] = [count]"
   ]
  },
  {
   "cell_type": "code",
   "execution_count": 12,
   "id": "011a9184",
   "metadata": {},
   "outputs": [
    {
     "name": "stderr",
     "output_type": "stream",
     "text": [
      "C:\\Users\\lorga\\AppData\\Local\\Temp\\ipykernel_6924\\3648737788.py:8: DtypeWarning: Columns (12,13,14,15,20,21) have mixed types. Specify dtype option on import or set low_memory=False.\n",
      "  df = pd.read_csv(file, sep = \";\", encoding = target_encoding)\n",
      "C:\\Users\\lorga\\AppData\\Local\\Temp\\ipykernel_6924\\3648737788.py:8: DtypeWarning: Columns (7,12,13,14,15,20,21) have mixed types. Specify dtype option on import or set low_memory=False.\n",
      "  df = pd.read_csv(file, sep = \";\", encoding = target_encoding)\n",
      "C:\\Users\\lorga\\AppData\\Local\\Temp\\ipykernel_6924\\3648737788.py:8: DtypeWarning: Columns (7,12,13,14,15,20,21) have mixed types. Specify dtype option on import or set low_memory=False.\n",
      "  df = pd.read_csv(file, sep = \";\", encoding = target_encoding)\n",
      "C:\\Users\\lorga\\AppData\\Local\\Temp\\ipykernel_6924\\3648737788.py:8: DtypeWarning: Columns (7,12,13,14,15,20,21) have mixed types. Specify dtype option on import or set low_memory=False.\n",
      "  df = pd.read_csv(file, sep = \";\", encoding = target_encoding)\n",
      "C:\\Users\\lorga\\AppData\\Local\\Temp\\ipykernel_6924\\3648737788.py:8: DtypeWarning: Columns (9,31,32) have mixed types. Specify dtype option on import or set low_memory=False.\n",
      "  df = pd.read_csv(file, sep = \";\", encoding = target_encoding)\n",
      "C:\\Users\\lorga\\AppData\\Local\\Temp\\ipykernel_6924\\3648737788.py:8: DtypeWarning: Columns (14) have mixed types. Specify dtype option on import or set low_memory=False.\n",
      "  df = pd.read_csv(file, sep = \";\", encoding = target_encoding)\n",
      "C:\\Users\\lorga\\AppData\\Local\\Temp\\ipykernel_6924\\3648737788.py:8: DtypeWarning: Columns (15) have mixed types. Specify dtype option on import or set low_memory=False.\n",
      "  df = pd.read_csv(file, sep = \";\", encoding = target_encoding)\n"
     ]
    }
   ],
   "source": [
    "notna_results = glob(\"data_notna/*\")\n",
    "for file in notna_results:\n",
    "    year = int(file.split(\"\\\\\")[1].split(\".\")[0])\n",
    "    if year != 2012:\n",
    "        target_encoding = \"utf-8\"\n",
    "    else:\n",
    "        target_encoding = \"latin-1\"\n",
    "    df = pd.read_csv(file, sep = \";\", encoding = target_encoding)\n",
    "    count = len(df.index)\n",
    "    if year in check_dict.keys():\n",
    "        check_dict[year].append(count)"
   ]
  },
  {
   "cell_type": "code",
   "execution_count": 13,
   "id": "b7e6dcf9",
   "metadata": {},
   "outputs": [],
   "source": [
    "edge_results = glob(\"edges/*\")\n",
    "for file in edge_results:\n",
    "    year = file.split(\"\\\\\")[1].split(\".\")[0]\n",
    "    if len(year) == 4:\n",
    "        year = int(year)\n",
    "        df = pd.read_csv(file, sep = \";\", encoding = \"utf-8\")\n",
    "        count = df[\"count\"].sum()\n",
    "        if year in check_dict.keys():\n",
    "            check_dict[year].append(count)"
   ]
  },
  {
   "cell_type": "code",
   "execution_count": 14,
   "id": "fa1d7bd9",
   "metadata": {},
   "outputs": [
    {
     "data": {
      "text/html": [
       "<div>\n",
       "<style scoped>\n",
       "    .dataframe tbody tr th:only-of-type {\n",
       "        vertical-align: middle;\n",
       "    }\n",
       "\n",
       "    .dataframe tbody tr th {\n",
       "        vertical-align: top;\n",
       "    }\n",
       "\n",
       "    .dataframe thead th {\n",
       "        text-align: right;\n",
       "    }\n",
       "</style>\n",
       "<table border=\"1\" class=\"dataframe\">\n",
       "  <thead>\n",
       "    <tr style=\"text-align: right;\">\n",
       "      <th></th>\n",
       "      <th>data</th>\n",
       "      <th>notna</th>\n",
       "      <th>edges</th>\n",
       "      <th>ratio</th>\n",
       "    </tr>\n",
       "  </thead>\n",
       "  <tbody>\n",
       "    <tr>\n",
       "      <th>2008</th>\n",
       "      <td>198523</td>\n",
       "      <td>168193</td>\n",
       "      <td>122170</td>\n",
       "      <td>0.726368</td>\n",
       "    </tr>\n",
       "    <tr>\n",
       "      <th>2009</th>\n",
       "      <td>213266</td>\n",
       "      <td>177705</td>\n",
       "      <td>130923</td>\n",
       "      <td>0.736743</td>\n",
       "    </tr>\n",
       "    <tr>\n",
       "      <th>2010</th>\n",
       "      <td>231408</td>\n",
       "      <td>190499</td>\n",
       "      <td>139350</td>\n",
       "      <td>0.731500</td>\n",
       "    </tr>\n",
       "    <tr>\n",
       "      <th>2011</th>\n",
       "      <td>252827</td>\n",
       "      <td>204756</td>\n",
       "      <td>148583</td>\n",
       "      <td>0.725659</td>\n",
       "    </tr>\n",
       "    <tr>\n",
       "      <th>2012</th>\n",
       "      <td>267547</td>\n",
       "      <td>267547</td>\n",
       "      <td>153827</td>\n",
       "      <td>0.574953</td>\n",
       "    </tr>\n",
       "    <tr>\n",
       "      <th>2013</th>\n",
       "      <td>272791</td>\n",
       "      <td>218225</td>\n",
       "      <td>158883</td>\n",
       "      <td>0.728070</td>\n",
       "    </tr>\n",
       "    <tr>\n",
       "      <th>2014</th>\n",
       "      <td>234772</td>\n",
       "      <td>234771</td>\n",
       "      <td>170204</td>\n",
       "      <td>0.724979</td>\n",
       "    </tr>\n",
       "    <tr>\n",
       "      <th>2015</th>\n",
       "      <td>552220</td>\n",
       "      <td>552213</td>\n",
       "      <td>388487</td>\n",
       "      <td>0.703509</td>\n",
       "    </tr>\n",
       "    <tr>\n",
       "      <th>2016</th>\n",
       "      <td>601809</td>\n",
       "      <td>601808</td>\n",
       "      <td>422039</td>\n",
       "      <td>0.701285</td>\n",
       "    </tr>\n",
       "    <tr>\n",
       "      <th>2017</th>\n",
       "      <td>642077</td>\n",
       "      <td>642067</td>\n",
       "      <td>448567</td>\n",
       "      <td>0.698630</td>\n",
       "    </tr>\n",
       "    <tr>\n",
       "      <th>2018</th>\n",
       "      <td>688510</td>\n",
       "      <td>688493</td>\n",
       "      <td>484706</td>\n",
       "      <td>0.704010</td>\n",
       "    </tr>\n",
       "    <tr>\n",
       "      <th>2019</th>\n",
       "      <td>736434</td>\n",
       "      <td>736429</td>\n",
       "      <td>516956</td>\n",
       "      <td>0.701977</td>\n",
       "    </tr>\n",
       "  </tbody>\n",
       "</table>\n",
       "</div>"
      ],
      "text/plain": [
       "        data   notna   edges     ratio\n",
       "2008  198523  168193  122170  0.726368\n",
       "2009  213266  177705  130923  0.736743\n",
       "2010  231408  190499  139350  0.731500\n",
       "2011  252827  204756  148583  0.725659\n",
       "2012  267547  267547  153827  0.574953\n",
       "2013  272791  218225  158883  0.728070\n",
       "2014  234772  234771  170204  0.724979\n",
       "2015  552220  552213  388487  0.703509\n",
       "2016  601809  601808  422039  0.701285\n",
       "2017  642077  642067  448567  0.698630\n",
       "2018  688510  688493  484706  0.704010\n",
       "2019  736434  736429  516956  0.701977"
      ]
     },
     "execution_count": 14,
     "metadata": {},
     "output_type": "execute_result"
    }
   ],
   "source": [
    "check_df = pd.DataFrame.from_dict(check_dict, columns = [\"data\", \"notna\", \"edges\"], orient = \"index\")\n",
    "check_df[\"ratio\"] = check_df[\"edges\"] / check_df[\"notna\"]\n",
    "check_df"
   ]
  },
  {
   "cell_type": "code",
   "execution_count": 15,
   "id": "b9950584",
   "metadata": {},
   "outputs": [
    {
     "data": {
      "text/plain": [
       "0.7014523226527568"
      ]
     },
     "execution_count": 15,
     "metadata": {},
     "output_type": "execute_result"
    }
   ],
   "source": [
    "check_df[\"edges\"].sum() / check_df[\"notna\"].sum()"
   ]
  }
 ],
 "metadata": {
  "kernelspec": {
   "display_name": "Python 3 (ipykernel)",
   "language": "python",
   "name": "python3"
  },
  "language_info": {
   "codemirror_mode": {
    "name": "ipython",
    "version": 3
   },
   "file_extension": ".py",
   "mimetype": "text/x-python",
   "name": "python",
   "nbconvert_exporter": "python",
   "pygments_lexer": "ipython3",
   "version": "3.9.12"
  }
 },
 "nbformat": 4,
 "nbformat_minor": 5
}
