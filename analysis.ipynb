{
 "cells": [
  {
   "cell_type": "code",
   "execution_count": 24,
   "id": "0c48231c",
   "metadata": {},
   "outputs": [],
   "source": [
    "from glob import glob\n",
    "import pandas as pd\n",
    "import re"
   ]
  },
  {
   "cell_type": "code",
   "execution_count": 35,
   "id": "b97cdbdb",
   "metadata": {},
   "outputs": [],
   "source": [
    "check_dict = {}"
   ]
  },
  {
   "cell_type": "code",
   "execution_count": 36,
   "id": "28e121bb",
   "metadata": {},
   "outputs": [
    {
     "name": "stderr",
     "output_type": "stream",
     "text": [
      "C:\\Users\\lorga\\AppData\\Local\\Temp\\ipykernel_3384\\2515357350.py:8: DtypeWarning: Columns (17,20) have mixed types. Specify dtype option on import or set low_memory=False.\n",
      "  df = pd.read_csv(file, sep = \";\", encoding = target_encoding)\n",
      "C:\\Users\\lorga\\AppData\\Local\\Temp\\ipykernel_3384\\2515357350.py:8: DtypeWarning: Columns (6,20) have mixed types. Specify dtype option on import or set low_memory=False.\n",
      "  df = pd.read_csv(file, sep = \";\", encoding = target_encoding)\n",
      "C:\\Users\\lorga\\AppData\\Local\\Temp\\ipykernel_3384\\2515357350.py:8: DtypeWarning: Columns (6,20) have mixed types. Specify dtype option on import or set low_memory=False.\n",
      "  df = pd.read_csv(file, sep = \";\", encoding = target_encoding)\n",
      "C:\\Users\\lorga\\AppData\\Local\\Temp\\ipykernel_3384\\2515357350.py:8: DtypeWarning: Columns (8,30,31) have mixed types. Specify dtype option on import or set low_memory=False.\n",
      "  df = pd.read_csv(file, sep = \";\", encoding = target_encoding)\n",
      "C:\\Users\\lorga\\AppData\\Local\\Temp\\ipykernel_3384\\2515357350.py:8: DtypeWarning: Columns (7) have mixed types. Specify dtype option on import or set low_memory=False.\n",
      "  df = pd.read_csv(file, sep = \";\", encoding = target_encoding)\n",
      "C:\\Users\\lorga\\AppData\\Local\\Temp\\ipykernel_3384\\2515357350.py:8: DtypeWarning: Columns (13) have mixed types. Specify dtype option on import or set low_memory=False.\n",
      "  df = pd.read_csv(file, sep = \";\", encoding = target_encoding)\n",
      "C:\\Users\\lorga\\AppData\\Local\\Temp\\ipykernel_3384\\2515357350.py:8: DtypeWarning: Columns (14) have mixed types. Specify dtype option on import or set low_memory=False.\n",
      "  df = pd.read_csv(file, sep = \";\", encoding = target_encoding)\n"
     ]
    }
   ],
   "source": [
    "data_results = glob(\"data/*\")\n",
    "for file in data_results:\n",
    "    year = int(file.split(\"\\\\\")[1].split(\".\")[0])\n",
    "    if year != 2012:\n",
    "        target_encoding = \"utf-8\"\n",
    "    else:\n",
    "        target_encoding = \"latin-1\"\n",
    "    df = pd.read_csv(file, sep = \";\", encoding = target_encoding)\n",
    "    count = len(df.index)\n",
    "    check_dict[year] = [count]"
   ]
  },
  {
   "cell_type": "code",
   "execution_count": 37,
   "id": "b7e6dcf9",
   "metadata": {},
   "outputs": [],
   "source": [
    "edge_results = glob(\"edges/*\")\n",
    "for file in edge_results:\n",
    "    year = file.split(\"\\\\\")[1].split(\".\")[0]\n",
    "    if len(year) == 4:\n",
    "        year = int(year)\n",
    "        df = pd.read_csv(file, sep = \";\", encoding = \"utf-8\")\n",
    "        count = df[\"count\"].sum()\n",
    "        if year in check_dict.keys():\n",
    "            check_dict[year].append(count)"
   ]
  },
  {
   "cell_type": "code",
   "execution_count": 38,
   "id": "7c634c2b",
   "metadata": {},
   "outputs": [
    {
     "data": {
      "text/html": [
       "<div>\n",
       "<style scoped>\n",
       "    .dataframe tbody tr th:only-of-type {\n",
       "        vertical-align: middle;\n",
       "    }\n",
       "\n",
       "    .dataframe tbody tr th {\n",
       "        vertical-align: top;\n",
       "    }\n",
       "\n",
       "    .dataframe thead th {\n",
       "        text-align: right;\n",
       "    }\n",
       "</style>\n",
       "<table border=\"1\" class=\"dataframe\">\n",
       "  <thead>\n",
       "    <tr style=\"text-align: right;\">\n",
       "      <th></th>\n",
       "      <th>data</th>\n",
       "      <th>edges</th>\n",
       "      <th>ratio</th>\n",
       "    </tr>\n",
       "  </thead>\n",
       "  <tbody>\n",
       "    <tr>\n",
       "      <th>2008</th>\n",
       "      <td>198523</td>\n",
       "      <td>161178</td>\n",
       "      <td>0.811886</td>\n",
       "    </tr>\n",
       "    <tr>\n",
       "      <th>2009</th>\n",
       "      <td>213266</td>\n",
       "      <td>105759</td>\n",
       "      <td>0.495902</td>\n",
       "    </tr>\n",
       "    <tr>\n",
       "      <th>2010</th>\n",
       "      <td>231408</td>\n",
       "      <td>190369</td>\n",
       "      <td>0.822655</td>\n",
       "    </tr>\n",
       "    <tr>\n",
       "      <th>2011</th>\n",
       "      <td>252827</td>\n",
       "      <td>206431</td>\n",
       "      <td>0.816491</td>\n",
       "    </tr>\n",
       "    <tr>\n",
       "      <th>2012</th>\n",
       "      <td>267547</td>\n",
       "      <td>219032</td>\n",
       "      <td>0.818667</td>\n",
       "    </tr>\n",
       "    <tr>\n",
       "      <th>2013</th>\n",
       "      <td>272791</td>\n",
       "      <td>225790</td>\n",
       "      <td>0.827703</td>\n",
       "    </tr>\n",
       "    <tr>\n",
       "      <th>2014</th>\n",
       "      <td>234772</td>\n",
       "      <td>169984</td>\n",
       "      <td>0.724039</td>\n",
       "    </tr>\n",
       "    <tr>\n",
       "      <th>2015</th>\n",
       "      <td>552220</td>\n",
       "      <td>388176</td>\n",
       "      <td>0.702937</td>\n",
       "    </tr>\n",
       "    <tr>\n",
       "      <th>2016</th>\n",
       "      <td>601809</td>\n",
       "      <td>421672</td>\n",
       "      <td>0.700674</td>\n",
       "    </tr>\n",
       "    <tr>\n",
       "      <th>2017</th>\n",
       "      <td>642077</td>\n",
       "      <td>448174</td>\n",
       "      <td>0.698007</td>\n",
       "    </tr>\n",
       "    <tr>\n",
       "      <th>2018</th>\n",
       "      <td>688510</td>\n",
       "      <td>484237</td>\n",
       "      <td>0.703311</td>\n",
       "    </tr>\n",
       "    <tr>\n",
       "      <th>2019</th>\n",
       "      <td>736434</td>\n",
       "      <td>516374</td>\n",
       "      <td>0.701182</td>\n",
       "    </tr>\n",
       "  </tbody>\n",
       "</table>\n",
       "</div>"
      ],
      "text/plain": [
       "        data   edges     ratio\n",
       "2008  198523  161178  0.811886\n",
       "2009  213266  105759  0.495902\n",
       "2010  231408  190369  0.822655\n",
       "2011  252827  206431  0.816491\n",
       "2012  267547  219032  0.818667\n",
       "2013  272791  225790  0.827703\n",
       "2014  234772  169984  0.724039\n",
       "2015  552220  388176  0.702937\n",
       "2016  601809  421672  0.700674\n",
       "2017  642077  448174  0.698007\n",
       "2018  688510  484237  0.703311\n",
       "2019  736434  516374  0.701182"
      ]
     },
     "execution_count": 38,
     "metadata": {},
     "output_type": "execute_result"
    }
   ],
   "source": [
    "check_df = pd.DataFrame.from_dict(check_dict, columns = [\"data\", \"edges\"], orient = \"index\")\n",
    "check_df[\"ratio\"] = check_df[\"edges\"] / check_df[\"data\"]\n",
    "check_df"
   ]
  },
  {
   "cell_type": "code",
   "execution_count": 39,
   "id": "e3a96ecf",
   "metadata": {},
   "outputs": [
    {
     "data": {
      "text/plain": [
       "0.7230259532347925"
      ]
     },
     "execution_count": 39,
     "metadata": {},
     "output_type": "execute_result"
    }
   ],
   "source": [
    "check_df[\"edges\"].sum() / check_df[\"data\"].sum()"
   ]
  },
  {
   "cell_type": "code",
   "execution_count": null,
   "id": "368b0568",
   "metadata": {},
   "outputs": [],
   "source": []
  },
  {
   "cell_type": "code",
   "execution_count": null,
   "id": "022eb05f",
   "metadata": {},
   "outputs": [],
   "source": []
  },
  {
   "cell_type": "code",
   "execution_count": 11,
   "id": "da5e4f2d",
   "metadata": {},
   "outputs": [
    {
     "data": {
      "text/html": [
       "<div>\n",
       "<style scoped>\n",
       "    .dataframe tbody tr th:only-of-type {\n",
       "        vertical-align: middle;\n",
       "    }\n",
       "\n",
       "    .dataframe tbody tr th {\n",
       "        vertical-align: top;\n",
       "    }\n",
       "\n",
       "    .dataframe thead th {\n",
       "        text-align: right;\n",
       "    }\n",
       "</style>\n",
       "<table border=\"1\" class=\"dataframe\">\n",
       "  <thead>\n",
       "    <tr style=\"text-align: right;\">\n",
       "      <th></th>\n",
       "      <th>data</th>\n",
       "      <th>edges</th>\n",
       "      <th>ratio</th>\n",
       "    </tr>\n",
       "  </thead>\n",
       "  <tbody>\n",
       "    <tr>\n",
       "      <th>2008</th>\n",
       "      <td>198523</td>\n",
       "      <td>161178</td>\n",
       "      <td>0.811886</td>\n",
       "    </tr>\n",
       "    <tr>\n",
       "      <th>2009</th>\n",
       "      <td>213266</td>\n",
       "      <td>172641</td>\n",
       "      <td>0.809510</td>\n",
       "    </tr>\n",
       "    <tr>\n",
       "      <th>2010</th>\n",
       "      <td>231408</td>\n",
       "      <td>190369</td>\n",
       "      <td>0.822655</td>\n",
       "    </tr>\n",
       "    <tr>\n",
       "      <th>2011</th>\n",
       "      <td>252827</td>\n",
       "      <td>206431</td>\n",
       "      <td>0.816491</td>\n",
       "    </tr>\n",
       "    <tr>\n",
       "      <th>2013</th>\n",
       "      <td>272791</td>\n",
       "      <td>225790</td>\n",
       "      <td>0.827703</td>\n",
       "    </tr>\n",
       "    <tr>\n",
       "      <th>2014</th>\n",
       "      <td>234772</td>\n",
       "      <td>169984</td>\n",
       "      <td>0.724039</td>\n",
       "    </tr>\n",
       "    <tr>\n",
       "      <th>2015</th>\n",
       "      <td>552220</td>\n",
       "      <td>388176</td>\n",
       "      <td>0.702937</td>\n",
       "    </tr>\n",
       "    <tr>\n",
       "      <th>2016</th>\n",
       "      <td>601809</td>\n",
       "      <td>421672</td>\n",
       "      <td>0.700674</td>\n",
       "    </tr>\n",
       "    <tr>\n",
       "      <th>2017</th>\n",
       "      <td>642077</td>\n",
       "      <td>448174</td>\n",
       "      <td>0.698007</td>\n",
       "    </tr>\n",
       "    <tr>\n",
       "      <th>2018</th>\n",
       "      <td>688510</td>\n",
       "      <td>484237</td>\n",
       "      <td>0.703311</td>\n",
       "    </tr>\n",
       "    <tr>\n",
       "      <th>2019</th>\n",
       "      <td>736434</td>\n",
       "      <td>516374</td>\n",
       "      <td>0.701182</td>\n",
       "    </tr>\n",
       "  </tbody>\n",
       "</table>\n",
       "</div>"
      ],
      "text/plain": [
       "        data   edges     ratio\n",
       "2008  198523  161178  0.811886\n",
       "2009  213266  172641  0.809510\n",
       "2010  231408  190369  0.822655\n",
       "2011  252827  206431  0.816491\n",
       "2013  272791  225790  0.827703\n",
       "2014  234772  169984  0.724039\n",
       "2015  552220  388176  0.702937\n",
       "2016  601809  421672  0.700674\n",
       "2017  642077  448174  0.698007\n",
       "2018  688510  484237  0.703311\n",
       "2019  736434  516374  0.701182"
      ]
     },
     "execution_count": 11,
     "metadata": {},
     "output_type": "execute_result"
    }
   ],
   "source": [
    "check_df = pd.DataFrame.from_dict(check_dict, columns = [\"data\", \"edges\"], orient = \"index\")\n",
    "check_df[\"ratio\"] = check_df[\"edges\"] / check_df[\"data\"]\n",
    "check_df"
   ]
  },
  {
   "cell_type": "code",
   "execution_count": 12,
   "id": "078d246b",
   "metadata": {},
   "outputs": [
    {
     "data": {
      "text/plain": [
       "0.731954962086754"
      ]
     },
     "execution_count": 12,
     "metadata": {},
     "output_type": "execute_result"
    }
   ],
   "source": [
    "check_df[\"edges\"].sum() / check_df[\"data\"].sum()"
   ]
  },
  {
   "cell_type": "code",
   "execution_count": null,
   "id": "447027fe",
   "metadata": {},
   "outputs": [],
   "source": []
  },
  {
   "cell_type": "code",
   "execution_count": null,
   "id": "9a98f6e4",
   "metadata": {},
   "outputs": [],
   "source": []
  },
  {
   "cell_type": "code",
   "execution_count": null,
   "id": "c7ea4db7",
   "metadata": {},
   "outputs": [],
   "source": []
  },
  {
   "cell_type": "code",
   "execution_count": 32,
   "id": "666c6eb1",
   "metadata": {},
   "outputs": [
    {
     "data": {
      "text/html": [
       "<div>\n",
       "<style scoped>\n",
       "    .dataframe tbody tr th:only-of-type {\n",
       "        vertical-align: middle;\n",
       "    }\n",
       "\n",
       "    .dataframe tbody tr th {\n",
       "        vertical-align: top;\n",
       "    }\n",
       "\n",
       "    .dataframe thead th {\n",
       "        text-align: right;\n",
       "    }\n",
       "</style>\n",
       "<table border=\"1\" class=\"dataframe\">\n",
       "  <thead>\n",
       "    <tr style=\"text-align: right;\">\n",
       "      <th></th>\n",
       "      <th>data</th>\n",
       "      <th>edges</th>\n",
       "      <th>ratio</th>\n",
       "    </tr>\n",
       "  </thead>\n",
       "  <tbody>\n",
       "    <tr>\n",
       "      <th>2008</th>\n",
       "      <td>198523</td>\n",
       "      <td>163573</td>\n",
       "      <td>0.823950</td>\n",
       "    </tr>\n",
       "    <tr>\n",
       "      <th>2009</th>\n",
       "      <td>213266</td>\n",
       "      <td>175337</td>\n",
       "      <td>0.822152</td>\n",
       "    </tr>\n",
       "    <tr>\n",
       "      <th>2010</th>\n",
       "      <td>231408</td>\n",
       "      <td>192944</td>\n",
       "      <td>0.833783</td>\n",
       "    </tr>\n",
       "    <tr>\n",
       "      <th>2011</th>\n",
       "      <td>252827</td>\n",
       "      <td>209128</td>\n",
       "      <td>0.827158</td>\n",
       "    </tr>\n",
       "    <tr>\n",
       "      <th>2013</th>\n",
       "      <td>272791</td>\n",
       "      <td>229252</td>\n",
       "      <td>0.840394</td>\n",
       "    </tr>\n",
       "    <tr>\n",
       "      <th>2014</th>\n",
       "      <td>234772</td>\n",
       "      <td>120850</td>\n",
       "      <td>0.514755</td>\n",
       "    </tr>\n",
       "    <tr>\n",
       "      <th>2015</th>\n",
       "      <td>552220</td>\n",
       "      <td>250710</td>\n",
       "      <td>0.454004</td>\n",
       "    </tr>\n",
       "    <tr>\n",
       "      <th>2016</th>\n",
       "      <td>601809</td>\n",
       "      <td>268078</td>\n",
       "      <td>0.445454</td>\n",
       "    </tr>\n",
       "    <tr>\n",
       "      <th>2017</th>\n",
       "      <td>642077</td>\n",
       "      <td>285641</td>\n",
       "      <td>0.444870</td>\n",
       "    </tr>\n",
       "    <tr>\n",
       "      <th>2018</th>\n",
       "      <td>688510</td>\n",
       "      <td>310188</td>\n",
       "      <td>0.450521</td>\n",
       "    </tr>\n",
       "    <tr>\n",
       "      <th>2019</th>\n",
       "      <td>736434</td>\n",
       "      <td>332804</td>\n",
       "      <td>0.451913</td>\n",
       "    </tr>\n",
       "  </tbody>\n",
       "</table>\n",
       "</div>"
      ],
      "text/plain": [
       "        data   edges     ratio\n",
       "2008  198523  163573  0.823950\n",
       "2009  213266  175337  0.822152\n",
       "2010  231408  192944  0.833783\n",
       "2011  252827  209128  0.827158\n",
       "2013  272791  229252  0.840394\n",
       "2014  234772  120850  0.514755\n",
       "2015  552220  250710  0.454004\n",
       "2016  601809  268078  0.445454\n",
       "2017  642077  285641  0.444870\n",
       "2018  688510  310188  0.450521\n",
       "2019  736434  332804  0.451913"
      ]
     },
     "execution_count": 32,
     "metadata": {},
     "output_type": "execute_result"
    }
   ],
   "source": [
    "check_df = pd.DataFrame.from_dict(check_dict, columns = [\"data\", \"edges\"], orient = \"index\")\n",
    "check_df[\"ratio\"] = check_df[\"edges\"] / check_df[\"data\"]\n",
    "check_df"
   ]
  },
  {
   "cell_type": "code",
   "execution_count": 33,
   "id": "7ccc17b5",
   "metadata": {},
   "outputs": [
    {
     "data": {
      "text/plain": [
       "0.5489090278869455"
      ]
     },
     "execution_count": 33,
     "metadata": {},
     "output_type": "execute_result"
    }
   ],
   "source": [
    "check_df[\"edges\"].sum() / check_df[\"data\"].sum()"
   ]
  },
  {
   "cell_type": "code",
   "execution_count": 43,
   "id": "904f708c",
   "metadata": {},
   "outputs": [
    {
     "name": "stderr",
     "output_type": "stream",
     "text": [
      "C:\\Users\\lorga\\AppData\\Local\\Temp\\ipykernel_9400\\3318989483.py:17: DtypeWarning: Columns (13) have mixed types. Specify dtype option on import or set low_memory=False.\n",
      "  df = pd.read_csv(file, sep = \";\", encoding = \"utf-8\")\n",
      "C:\\Users\\lorga\\AppData\\Local\\Temp\\ipykernel_9400\\3318989483.py:17: DtypeWarning: Columns (14) have mixed types. Specify dtype option on import or set low_memory=False.\n",
      "  df = pd.read_csv(file, sep = \";\", encoding = \"utf-8\")\n"
     ]
    },
    {
     "name": "stdout",
     "output_type": "stream",
     "text": [
      "77215\n"
     ]
    }
   ],
   "source": [
    "data_results = glob(\"data/*\")\n",
    "\n",
    "def clean_and_append(city):\n",
    "    city = str(city)\n",
    "    city = re.sub(r\"\\(.*?\\)\", \"\", city)\n",
    "    city = city.lower()\n",
    "    city = city.strip()\n",
    "    city = city.replace(\"  \", \" \")\n",
    "    city_split = [token for token in city.split(\" \") if not token.isdigit()]\n",
    "    city = \" \".join(city_split)\n",
    "    return city\n",
    "\n",
    "city_list = []\n",
    "for file in data_results:\n",
    "    year = int(file.split(\"\\\\\")[1].split(\".\")[0])\n",
    "    if year > 2013:\n",
    "        df = pd.read_csv(file, sep = \";\", encoding = \"utf-8\")\n",
    "        sending_list = df[\"Sending City\"].tolist()\n",
    "        for city in sending_list:\n",
    "            city = clean_and_append(city)\n",
    "            city_list.append(city)\n",
    "        receiving_list = df[\"Receiving City\"].tolist()\n",
    "        for city in receiving_list:\n",
    "            city = clean_and_append(city)\n",
    "            city_list.append(city)\n",
    "city_list = list(set(city_list))\n",
    "print(len(city_list))"
   ]
  },
  {
   "cell_type": "code",
   "execution_count": 44,
   "id": "dcd56927",
   "metadata": {},
   "outputs": [
    {
     "name": "stdout",
     "output_type": "stream",
     "text": [
      "['', 'panevėžys', 'praga-nové mesto', 'coulounieix chamiers', 'carrer de muntaner, 479, barcelona, spain', 'bingen', 'moron de la frontera', 'palma / islas baleares', 'rubi', 'l�renskrog', 'weitnau', 'neradnovci', 'bebra', 'minehead', 'zditovo', 'borgo valsugana', 'gidy', 'bassum', 'zuidoostbeemster', 'spisska stara ves', '?ehitkamil, gaziantep', 'cheongju', 'r�dersheim', 'istantbul', 'puerto real / cadiz', 'winterbach', 'terrassa/barcelona', 'drouwenerveen', 'rezzato - bs', 'helston, cornwall', 'saint martin des champs', 'pontypool', 'moustiers-saint marie', 'saint denis de la reunion', 'islas baleares,', 'bain de bretagne', 'terragona', 'breasclete, callanish', 'lespinassiere', 'voisins le bretonneux', 'stare kosiny', 'klippan', 'yunquera de henares,', 'khemis-miliana', 'kopaszyn', 'montelupo', 'rajcza', 'aradeo', 'v�ls am schlern', 'olomouc', 'tjodalyng', 'san pawn il-bahar qawra', 'hameenl', '�����������', 'berlynas', 'benalmádena, málaga', 'krumpendorf', 'norville', 'santiago do cecem', 'caldicot', 'ljubjlana', 'e - tarragona, catalonoa', 'co. mayo', 'vuren', 'khorog', 'athis mons', 'wangen im allgau', 'sautens', 'harrow, london', 'yalikavak', 'cluse', 'pont de veyle', 'ústí nad orlicí', 'bournemouth bh2 6na', 'cz063', 'lomza', 'vilassar de mar barcelona', 'leirfjord', 'brent pelham', 'raleigh', 'leven ky8 5rf', 'dettenheim', 'glamis', 'kjerring�y', 'thale', 'duttweiler', '?zmir', 'huddesrfield', 'fernelmont', 'rovanie11', 'cardigan', 'bernati', 'nysa', 'dafundo', 'saint georges sur baulche', 'dz the hague', 'l�signy', 'sesimbra', 'tramin', 'pl 00-927 warszawa', 'b?rger', 'torino to', 'oviedo, asturias,', 'devrek/zonguldak', 'cotofenii din fata', 'mondorf-les-bains', 'castellbell i el vilar', 'moaña - ponte vedra', 'k?hnsdorf', 'budapeste', 'dinslaken', 'bapha', 'alcudia in spain.', 'herve', 'lindenberg/allg�u', 'ballynoe', 'pampow', 'gréoux-les-bains', 'warant dreye', 'grabenstatt', 'flein', 'sant feliu de gu�xols, girona', 'mori', 'avidos, vila nova de famalicão', 'vigo ourense', 'westerburg', 'cyprus', 'st. martins', 'punaauia, tahiti', 'la campana', 'analija', 'fornos de algodres', 'stutensee-sp?ck', 'b.p. dunkerque c�dex', 'gemersheim', 'heimdal', 'praha - libe?', 'pula-pola', 'ploemeur', 'pelayos de la presa', 'font romeu', 'aurich-popens', 'b�dingen', 'daas kildare', 'tsigov chark', 'pedrogao grande, leiria', 'lt kaunas01', 'triq il-kostituzzjoni', 'wedding berlin', 'sarriguren', 'coralejo, fuerteventura', 'hereclean', 'he warmond', 'cibali fatih/ istanbul', 'mulhuddart', 'cento fe', 'vilablareix. girona', 'reims cdex', 'pr�st�', 'swisttal', 'dunstaffnage, oban', \"sered'\", 'am delden', 'den bosh', 'kühtai', 'gélos', 'phra nakhon si ayutthaya', 'la fère', 'twickenham tw1 1dq', 'edinburgh scottland', 'saxion university of applied sciences', 'wienne', 'st. p?lten', 'chelsea harbour london', 'voluntari,judetul iifov', 'amazon europe core sarl, located in luxembourg.', 'venice - campo apostolin', 'sitguna', 'ostrava – zábřeh-ostrava-jih', 'latchi pathos', 'hanu?ovce�nad�top?ou', 'dk kobenha58', 'karise', 'encarnación', 'moncada-valencia', 'parikia, paros', 'popeşti', 'fye', 'kehl-kork', 'pirkanmaa', 'si̇mav', 'sendai, miyagi', 'ludmannsdorf', 'vessigebro', 'golbas?', 'reggio emilia/modena', 'torre de benagalbón', 'd�rth', 'mortimer', 'almed�jar']\n"
     ]
    }
   ],
   "source": [
    "print(city_list[:200])"
   ]
  },
  {
   "cell_type": "code",
   "execution_count": null,
   "id": "2a3eeb9d",
   "metadata": {},
   "outputs": [],
   "source": []
  }
 ],
 "metadata": {
  "kernelspec": {
   "display_name": "Python 3 (ipykernel)",
   "language": "python",
   "name": "python3"
  },
  "language_info": {
   "codemirror_mode": {
    "name": "ipython",
    "version": 3
   },
   "file_extension": ".py",
   "mimetype": "text/x-python",
   "name": "python",
   "nbconvert_exporter": "python",
   "pygments_lexer": "ipython3",
   "version": "3.9.12"
  }
 },
 "nbformat": 4,
 "nbformat_minor": 5
}
