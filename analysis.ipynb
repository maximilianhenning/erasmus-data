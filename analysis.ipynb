{
 "cells": [
  {
   "cell_type": "code",
   "execution_count": 26,
   "id": "0c48231c",
   "metadata": {},
   "outputs": [],
   "source": [
    "from glob import glob\n",
    "import pandas as pd\n",
    "import re"
   ]
  },
  {
   "cell_type": "code",
   "execution_count": 27,
   "id": "cc5f0e22",
   "metadata": {},
   "outputs": [],
   "source": [
    "check_dict = {  # This is higher education students and staff\n",
    "    2008: [198600],\n",
    "    2009: [231266],\n",
    "    2010: [231410],\n",
    "    2011: [252827],\n",
    "    2012: [268143],\n",
    "    2013: [272498],\n",
    "    2014: [280000], # Stand-in - can't find data\n",
    "    2015: [291383],\n",
    "    2016: [360046],\n",
    "    2017: [392106],\n",
    "    2018: [423648],\n",
    "    2019: [449498],\n",
    "    2020: [462377]\n",
    "}"
   ]
  },
  {
   "cell_type": "code",
   "execution_count": 28,
   "id": "28e121bb",
   "metadata": {},
   "outputs": [
    {
     "name": "stderr",
     "output_type": "stream",
     "text": [
      "C:\\Users\\lorga\\AppData\\Local\\Temp\\ipykernel_11832\\3756270116.py:8: DtypeWarning: Columns (17,20) have mixed types. Specify dtype option on import or set low_memory=False.\n",
      "  df = pd.read_csv(file, sep = \";\", encoding = target_encoding)\n",
      "C:\\Users\\lorga\\AppData\\Local\\Temp\\ipykernel_11832\\3756270116.py:8: DtypeWarning: Columns (6,20) have mixed types. Specify dtype option on import or set low_memory=False.\n",
      "  df = pd.read_csv(file, sep = \";\", encoding = target_encoding)\n",
      "C:\\Users\\lorga\\AppData\\Local\\Temp\\ipykernel_11832\\3756270116.py:8: DtypeWarning: Columns (6,20) have mixed types. Specify dtype option on import or set low_memory=False.\n",
      "  df = pd.read_csv(file, sep = \";\", encoding = target_encoding)\n",
      "C:\\Users\\lorga\\AppData\\Local\\Temp\\ipykernel_11832\\3756270116.py:8: DtypeWarning: Columns (8,30,31) have mixed types. Specify dtype option on import or set low_memory=False.\n",
      "  df = pd.read_csv(file, sep = \";\", encoding = target_encoding)\n",
      "C:\\Users\\lorga\\AppData\\Local\\Temp\\ipykernel_11832\\3756270116.py:8: DtypeWarning: Columns (7) have mixed types. Specify dtype option on import or set low_memory=False.\n",
      "  df = pd.read_csv(file, sep = \";\", encoding = target_encoding)\n",
      "C:\\Users\\lorga\\AppData\\Local\\Temp\\ipykernel_11832\\3756270116.py:8: DtypeWarning: Columns (14) have mixed types. Specify dtype option on import or set low_memory=False.\n",
      "  df = pd.read_csv(file, sep = \";\", encoding = target_encoding)\n",
      "C:\\Users\\lorga\\AppData\\Local\\Temp\\ipykernel_11832\\3756270116.py:8: DtypeWarning: Columns (14) have mixed types. Specify dtype option on import or set low_memory=False.\n",
      "  df = pd.read_csv(file, sep = \";\", encoding = target_encoding)\n",
      "C:\\Users\\lorga\\AppData\\Local\\Temp\\ipykernel_11832\\3756270116.py:8: DtypeWarning: Columns (14) have mixed types. Specify dtype option on import or set low_memory=False.\n",
      "  df = pd.read_csv(file, sep = \";\", encoding = target_encoding)\n",
      "C:\\Users\\lorga\\AppData\\Local\\Temp\\ipykernel_11832\\3756270116.py:8: DtypeWarning: Columns (14) have mixed types. Specify dtype option on import or set low_memory=False.\n",
      "  df = pd.read_csv(file, sep = \";\", encoding = target_encoding)\n",
      "C:\\Users\\lorga\\AppData\\Local\\Temp\\ipykernel_11832\\3756270116.py:8: DtypeWarning: Columns (14) have mixed types. Specify dtype option on import or set low_memory=False.\n",
      "  df = pd.read_csv(file, sep = \";\", encoding = target_encoding)\n",
      "C:\\Users\\lorga\\AppData\\Local\\Temp\\ipykernel_11832\\3756270116.py:8: DtypeWarning: Columns (14) have mixed types. Specify dtype option on import or set low_memory=False.\n",
      "  df = pd.read_csv(file, sep = \";\", encoding = target_encoding)\n"
     ]
    }
   ],
   "source": [
    "data_results = glob(\"data/*\")\n",
    "for file in data_results:\n",
    "    year = int(file.split(\"\\\\\")[1].split(\".\")[0])\n",
    "    if year in [2012, 2020]:\n",
    "        target_encoding = \"latin-1\"\n",
    "    else:\n",
    "        target_encoding = \"utf-8\"\n",
    "    df = pd.read_csv(file, sep = \";\", encoding = target_encoding)\n",
    "    count = len(df.index)\n",
    "    check_dict[year].append(count)"
   ]
  },
  {
   "cell_type": "code",
   "execution_count": 29,
   "id": "011a9184",
   "metadata": {},
   "outputs": [
    {
     "name": "stderr",
     "output_type": "stream",
     "text": [
      "C:\\Users\\lorga\\AppData\\Local\\Temp\\ipykernel_11832\\3648737788.py:8: DtypeWarning: Columns (12,13,14,15,20,21) have mixed types. Specify dtype option on import or set low_memory=False.\n",
      "  df = pd.read_csv(file, sep = \";\", encoding = target_encoding)\n",
      "C:\\Users\\lorga\\AppData\\Local\\Temp\\ipykernel_11832\\3648737788.py:8: DtypeWarning: Columns (7,12,13,14,15,20,21) have mixed types. Specify dtype option on import or set low_memory=False.\n",
      "  df = pd.read_csv(file, sep = \";\", encoding = target_encoding)\n",
      "C:\\Users\\lorga\\AppData\\Local\\Temp\\ipykernel_11832\\3648737788.py:8: DtypeWarning: Columns (7,12,13,14,15,20,21) have mixed types. Specify dtype option on import or set low_memory=False.\n",
      "  df = pd.read_csv(file, sep = \";\", encoding = target_encoding)\n",
      "C:\\Users\\lorga\\AppData\\Local\\Temp\\ipykernel_11832\\3648737788.py:8: DtypeWarning: Columns (7,12,13,14,15,20,21) have mixed types. Specify dtype option on import or set low_memory=False.\n",
      "  df = pd.read_csv(file, sep = \";\", encoding = target_encoding)\n",
      "C:\\Users\\lorga\\AppData\\Local\\Temp\\ipykernel_11832\\3648737788.py:8: DtypeWarning: Columns (9,31,32) have mixed types. Specify dtype option on import or set low_memory=False.\n",
      "  df = pd.read_csv(file, sep = \";\", encoding = target_encoding)\n",
      "C:\\Users\\lorga\\AppData\\Local\\Temp\\ipykernel_11832\\3648737788.py:8: DtypeWarning: Columns (15) have mixed types. Specify dtype option on import or set low_memory=False.\n",
      "  df = pd.read_csv(file, sep = \";\", encoding = target_encoding)\n"
     ]
    }
   ],
   "source": [
    "notna_results = glob(\"data_notna/*\")\n",
    "for file in notna_results:\n",
    "    year = int(file.split(\"\\\\\")[1].split(\".\")[0])\n",
    "    if year != 2012:\n",
    "        target_encoding = \"utf-8\"\n",
    "    else:\n",
    "        target_encoding = \"latin-1\"\n",
    "    df = pd.read_csv(file, sep = \";\", encoding = target_encoding)\n",
    "    count = len(df.index)\n",
    "    if year in check_dict.keys():\n",
    "        check_dict[year].append(count)"
   ]
  },
  {
   "cell_type": "code",
   "execution_count": 30,
   "id": "b7e6dcf9",
   "metadata": {},
   "outputs": [],
   "source": [
    "edge_results = glob(\"edges/*\")\n",
    "for file in edge_results:\n",
    "    year = file.split(\"\\\\\")[1].split(\".\")[0]\n",
    "    if len(year) == 4:\n",
    "        year = int(year)\n",
    "        df = pd.read_csv(file, sep = \";\", encoding = \"utf-8\")\n",
    "        count = df[\"count\"].sum()\n",
    "        if year in check_dict.keys():\n",
    "            check_dict[year].append(count)"
   ]
  },
  {
   "cell_type": "code",
   "execution_count": 31,
   "id": "8a3cf5c0",
   "metadata": {},
   "outputs": [
    {
     "data": {
      "text/html": [
       "<div>\n",
       "<style scoped>\n",
       "    .dataframe tbody tr th:only-of-type {\n",
       "        vertical-align: middle;\n",
       "    }\n",
       "\n",
       "    .dataframe tbody tr th {\n",
       "        vertical-align: top;\n",
       "    }\n",
       "\n",
       "    .dataframe thead th {\n",
       "        text-align: right;\n",
       "    }\n",
       "</style>\n",
       "<table border=\"1\" class=\"dataframe\">\n",
       "  <thead>\n",
       "    <tr style=\"text-align: right;\">\n",
       "      <th></th>\n",
       "      <th>stats</th>\n",
       "      <th>data</th>\n",
       "      <th>notna</th>\n",
       "      <th>edges</th>\n",
       "      <th>notna_ratio</th>\n",
       "      <th>edges_ratio</th>\n",
       "      <th>overall_ratio</th>\n",
       "    </tr>\n",
       "  </thead>\n",
       "  <tbody>\n",
       "    <tr>\n",
       "      <th>2008</th>\n",
       "      <td>198600</td>\n",
       "      <td>198523</td>\n",
       "      <td>168193</td>\n",
       "      <td>122159</td>\n",
       "      <td>0.847222</td>\n",
       "      <td>0.726303</td>\n",
       "      <td>0.615101</td>\n",
       "    </tr>\n",
       "    <tr>\n",
       "      <th>2009</th>\n",
       "      <td>231266</td>\n",
       "      <td>213266</td>\n",
       "      <td>177705</td>\n",
       "      <td>130887</td>\n",
       "      <td>0.833255</td>\n",
       "      <td>0.736541</td>\n",
       "      <td>0.565959</td>\n",
       "    </tr>\n",
       "    <tr>\n",
       "      <th>2010</th>\n",
       "      <td>231410</td>\n",
       "      <td>231408</td>\n",
       "      <td>190499</td>\n",
       "      <td>139092</td>\n",
       "      <td>0.823217</td>\n",
       "      <td>0.730146</td>\n",
       "      <td>0.601063</td>\n",
       "    </tr>\n",
       "    <tr>\n",
       "      <th>2011</th>\n",
       "      <td>252827</td>\n",
       "      <td>252827</td>\n",
       "      <td>204756</td>\n",
       "      <td>148169</td>\n",
       "      <td>0.809866</td>\n",
       "      <td>0.723637</td>\n",
       "      <td>0.586049</td>\n",
       "    </tr>\n",
       "    <tr>\n",
       "      <th>2012</th>\n",
       "      <td>268143</td>\n",
       "      <td>267547</td>\n",
       "      <td>267547</td>\n",
       "      <td>153366</td>\n",
       "      <td>1.000000</td>\n",
       "      <td>0.573230</td>\n",
       "      <td>0.571956</td>\n",
       "    </tr>\n",
       "    <tr>\n",
       "      <th>2013</th>\n",
       "      <td>272498</td>\n",
       "      <td>272791</td>\n",
       "      <td>218225</td>\n",
       "      <td>158504</td>\n",
       "      <td>0.799971</td>\n",
       "      <td>0.726333</td>\n",
       "      <td>0.581670</td>\n",
       "    </tr>\n",
       "    <tr>\n",
       "      <th>2014</th>\n",
       "      <td>280000</td>\n",
       "      <td>235414</td>\n",
       "      <td>235413</td>\n",
       "      <td>170622</td>\n",
       "      <td>0.999996</td>\n",
       "      <td>0.724777</td>\n",
       "      <td>0.609364</td>\n",
       "    </tr>\n",
       "    <tr>\n",
       "      <th>2015</th>\n",
       "      <td>291383</td>\n",
       "      <td>553654</td>\n",
       "      <td>207625</td>\n",
       "      <td>163833</td>\n",
       "      <td>0.375009</td>\n",
       "      <td>0.789081</td>\n",
       "      <td>0.562260</td>\n",
       "    </tr>\n",
       "    <tr>\n",
       "      <th>2016</th>\n",
       "      <td>360046</td>\n",
       "      <td>603079</td>\n",
       "      <td>211675</td>\n",
       "      <td>167869</td>\n",
       "      <td>0.350991</td>\n",
       "      <td>0.793051</td>\n",
       "      <td>0.466243</td>\n",
       "    </tr>\n",
       "    <tr>\n",
       "      <th>2017</th>\n",
       "      <td>392106</td>\n",
       "      <td>643346</td>\n",
       "      <td>217204</td>\n",
       "      <td>173959</td>\n",
       "      <td>0.337616</td>\n",
       "      <td>0.800901</td>\n",
       "      <td>0.443653</td>\n",
       "    </tr>\n",
       "    <tr>\n",
       "      <th>2018</th>\n",
       "      <td>423648</td>\n",
       "      <td>690331</td>\n",
       "      <td>221480</td>\n",
       "      <td>179087</td>\n",
       "      <td>0.320832</td>\n",
       "      <td>0.808592</td>\n",
       "      <td>0.422726</td>\n",
       "    </tr>\n",
       "    <tr>\n",
       "      <th>2019</th>\n",
       "      <td>449498</td>\n",
       "      <td>736434</td>\n",
       "      <td>220779</td>\n",
       "      <td>179581</td>\n",
       "      <td>0.299795</td>\n",
       "      <td>0.813397</td>\n",
       "      <td>0.399515</td>\n",
       "    </tr>\n",
       "    <tr>\n",
       "      <th>2020</th>\n",
       "      <td>462377</td>\n",
       "      <td>277025</td>\n",
       "      <td>127846</td>\n",
       "      <td>102748</td>\n",
       "      <td>0.461496</td>\n",
       "      <td>0.803686</td>\n",
       "      <td>0.222217</td>\n",
       "    </tr>\n",
       "  </tbody>\n",
       "</table>\n",
       "</div>"
      ],
      "text/plain": [
       "       stats    data   notna   edges  notna_ratio  edges_ratio  overall_ratio\n",
       "2008  198600  198523  168193  122159     0.847222     0.726303       0.615101\n",
       "2009  231266  213266  177705  130887     0.833255     0.736541       0.565959\n",
       "2010  231410  231408  190499  139092     0.823217     0.730146       0.601063\n",
       "2011  252827  252827  204756  148169     0.809866     0.723637       0.586049\n",
       "2012  268143  267547  267547  153366     1.000000     0.573230       0.571956\n",
       "2013  272498  272791  218225  158504     0.799971     0.726333       0.581670\n",
       "2014  280000  235414  235413  170622     0.999996     0.724777       0.609364\n",
       "2015  291383  553654  207625  163833     0.375009     0.789081       0.562260\n",
       "2016  360046  603079  211675  167869     0.350991     0.793051       0.466243\n",
       "2017  392106  643346  217204  173959     0.337616     0.800901       0.443653\n",
       "2018  423648  690331  221480  179087     0.320832     0.808592       0.422726\n",
       "2019  449498  736434  220779  179581     0.299795     0.813397       0.399515\n",
       "2020  462377  277025  127846  102748     0.461496     0.803686       0.222217"
      ]
     },
     "execution_count": 31,
     "metadata": {},
     "output_type": "execute_result"
    }
   ],
   "source": [
    "check_df = pd.DataFrame.from_dict(check_dict, columns = [\"stats\", \"data\", \"notna\", \"edges\"], orient = \"index\")\n",
    "check_df[\"notna_ratio\"] = check_df[\"notna\"] / check_df[\"data\"]\n",
    "check_df[\"edges_ratio\"] = check_df[\"edges\"] / check_df[\"notna\"]\n",
    "check_df[\"overall_ratio\"] = check_df[\"edges\"] / check_df[\"stats\"]\n",
    "check_df"
   ]
  },
  {
   "cell_type": "code",
   "execution_count": 33,
   "id": "b9950584",
   "metadata": {},
   "outputs": [
    {
     "data": {
      "text/plain": [
       "0.7455659479187859"
      ]
     },
     "execution_count": 33,
     "metadata": {},
     "output_type": "execute_result"
    }
   ],
   "source": [
    "check_df[\"edges\"].sum() / check_df[\"notna\"].sum() \n",
    "# Von 0.7 zu 0.62 wegen neuem ECHE? Brauche alte Version + vor 2021, gibts aber nicht"
   ]
  },
  {
   "cell_type": "code",
   "execution_count": 34,
   "id": "f5f9632a",
   "metadata": {},
   "outputs": [
    {
     "data": {
      "text/plain": [
       "(4113802, 5175645, 2668947, 1989876)"
      ]
     },
     "execution_count": 34,
     "metadata": {},
     "output_type": "execute_result"
    }
   ],
   "source": [
    "check_df[\"stats\"].sum(), check_df[\"data\"].sum(), check_df[\"notna\"].sum(), check_df[\"edges\"].sum()"
   ]
  },
  {
   "cell_type": "code",
   "execution_count": null,
   "id": "489a1765",
   "metadata": {},
   "outputs": [],
   "source": []
  }
 ],
 "metadata": {
  "kernelspec": {
   "display_name": "Python 3 (ipykernel)",
   "language": "python",
   "name": "python3"
  },
  "language_info": {
   "codemirror_mode": {
    "name": "ipython",
    "version": 3
   },
   "file_extension": ".py",
   "mimetype": "text/x-python",
   "name": "python",
   "nbconvert_exporter": "python",
   "pygments_lexer": "ipython3",
   "version": "3.9.12"
  }
 },
 "nbformat": 4,
 "nbformat_minor": 5
}
